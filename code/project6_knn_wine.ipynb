{
  "nbformat": 4,
  "nbformat_minor": 0,
  "metadata": {
    "colab": {
      "name": "project6_knn_wine.ipynb",
      "provenance": [],
      "collapsed_sections": []
    },
    "kernelspec": {
      "name": "python3",
      "display_name": "Python 3"
    }
  },
  "cells": [
    {
      "cell_type": "markdown",
      "metadata": {
        "id": "wdo5pzl2dtvw",
        "colab_type": "text"
      },
      "source": [
        "# Project objective\n",
        "This project is designed to review k nearest neighbour(kNN) method and its python implementation using Wine dataset.\n",
        "\n",
        "Information about the dataset, some technical details about the used machine learning method(s) and mathematical details of the quantifications approaches are provided in the code. "
      ]
    },
    {
      "cell_type": "markdown",
      "metadata": {
        "id": "VjtJFxdsNh05",
        "colab_type": "text"
      },
      "source": [
        "# Packages we work with in this notebook\n",
        "We are going to use the following libraries and packages:\n",
        "\n",
        "* **numpy**: NumPy is the fundamental package for scientific computing with Python. (http://www.numpy.org/)\n",
        "* **sklearn**: Scikit-learn is a machine learning library for Python programming language. (https://scikit-learn.org/stable/)\n"
      ]
    },
    {
      "cell_type": "code",
      "metadata": {
        "id": "57oB2idEgr-g",
        "colab_type": "code",
        "colab": {}
      },
      "source": [
        "import numpy as np\n",
        "import sklearn as sk"
      ],
      "execution_count": 0,
      "outputs": []
    },
    {
      "cell_type": "markdown",
      "metadata": {
        "id": "Bb1Zm7ARN5D5",
        "colab_type": "text"
      },
      "source": [
        "# Introduction to the dataset\n",
        "\n",
        "**Name**: Wine dataset\n",
        "\n",
        "**Summary**: Chemical analysis of wines grown in the same region in Italy but derived from three different cultivars. Hence, the task is multiclass (3 class) classification.\n",
        "\n",
        "**number of features**: 13 (real, positive) \n",
        "\n",
        "**Number of data points (instances)**: 178\n",
        "\n",
        "**dataset accessibility**: Dataset is available as part of sklearn package.\n",
        "\n",
        "**Link to the dataset**: http://archive.ics.uci.edu/ml/datasets/Wine/\n",
        "\n",
        "\n"
      ]
    },
    {
      "cell_type": "markdown",
      "metadata": {
        "id": "QjBnejgpP0Gr",
        "colab_type": "text"
      },
      "source": [
        "## Loading the dataset and separating features and labels\n",
        "The dataset is available as part of sklearn package. Hence, we do not need to import the data directly from UCI ML repository. "
      ]
    },
    {
      "cell_type": "code",
      "metadata": {
        "id": "RILQWrhjQUtF",
        "colab_type": "code",
        "outputId": "e2ddaf96-9ffa-415a-d928-26ca95925833",
        "colab": {
          "base_uri": "https://localhost:8080/",
          "height": 52
        }
      },
      "source": [
        "from sklearn.datasets import load_wine\n",
        "\n",
        "# Loading wine data\n",
        "target_dataset = load_wine()\n",
        "\n",
        "# separating feature arrays of pixel values (X) and labels (y) \n",
        "input_features = target_dataset.data\n",
        "output_var = target_dataset.target\n",
        "# printing number of features (pixels) and data points \n",
        "n_samples, n_features = input_features.shape\n",
        "print(\"number of samples (data points):\", n_samples)\n",
        "print(\"number of features:\", n_features)"
      ],
      "execution_count": 2,
      "outputs": [
        {
          "output_type": "stream",
          "text": [
            "number of samples (data points): 178\n",
            "number of features: 13\n"
          ],
          "name": "stdout"
        }
      ]
    },
    {
      "cell_type": "markdown",
      "metadata": {
        "id": "qgejl_XWhWqN",
        "colab_type": "text"
      },
      "source": [
        "## Splitting data to training and testing sets\n",
        "\n",
        "We need to split the data to train and test, if we do not have a separate dataset for validation and/or testing, to make sure about gneralizability of the model we train.\n",
        "\n",
        "**test_size**: Traditionally, 30%-40% of the dataset can be used for test set. If you split the data to train, validation and test, you can use 60%, 20% and 20% of teh dataset, respectively.\n",
        "\n",
        "**Note.**: We need the validation and test sets to be big enough for checking genralizability of our model. At the same time we would like to have as much data as possible in the training set to train a better model.\n",
        "\n",
        "**random_state**: as the name suggests, is used for initializing the internal random number generator, which will decide the splitting of data into train and test indices in your case.\n"
      ]
    },
    {
      "cell_type": "code",
      "metadata": {
        "id": "V3L9BbkSg2vp",
        "colab_type": "code",
        "colab": {}
      },
      "source": [
        "from sklearn.model_selection import train_test_split\n",
        "\n",
        "X_train, X_test, y_train, y_test = train_test_split(input_features, output_var, test_size=0.30, random_state=5)"
      ],
      "execution_count": 0,
      "outputs": []
    },
    {
      "cell_type": "markdown",
      "metadata": {
        "id": "d0Fi1jpVkbhC",
        "colab_type": "text"
      },
      "source": [
        "## Building the supervised learning model\n",
        "We want to build a 3 class classification model as the output variable is categorical with 3 classes. Here we build a simple k nearest neighbour model.\n",
        "\n",
        "## k nearest neighbour(kNN)\n",
        "k nearest neighbour uses a distance metric like Euclidean distance to identity similarity of a data point (sample) to the other data points (samples) in the trainign set. Then based on the user specified k, it finds the k closest points (samples) to the target data point. Afterward, it chooses the most frequent label among the k closes points (majority voting) as the class label of the target sample. The class labels can be also assigned based on weighted voting of the k closest data points to the data point. \n",
        "\n",
        "This process is basis of identifying regions in the space belong to each class. For small k (k=1 or 2) the space may look like collection of islands belonging to diffeerent classes. While getting to higher k values make the islands connected to become class territories.\n"
      ]
    },
    {
      "cell_type": "code",
      "metadata": {
        "id": "fj3SSteMkxb2",
        "colab_type": "code",
        "outputId": "6719fea1-98f0-428d-82df-be5e9677c80b",
        "colab": {
          "base_uri": "https://localhost:8080/",
          "height": 70
        }
      },
      "source": [
        "from sklearn.neighbors import KNeighborsClassifier\n",
        "\n",
        "# Create logistic regression object\n",
        "knn = KNeighborsClassifier(n_neighbors=5, weights='distance')\n",
        "\n",
        "# Train the model using the training sets\n",
        "knn.fit(X_train, y_train)"
      ],
      "execution_count": 4,
      "outputs": [
        {
          "output_type": "execute_result",
          "data": {
            "text/plain": [
              "KNeighborsClassifier(algorithm='auto', leaf_size=30, metric='minkowski',\n",
              "                     metric_params=None, n_jobs=None, n_neighbors=5, p=2,\n",
              "                     weights='distance')"
            ]
          },
          "metadata": {
            "tags": []
          },
          "execution_count": 4
        }
      ]
    },
    {
      "cell_type": "markdown",
      "metadata": {
        "id": "zUWtodtDmFAW",
        "colab_type": "text"
      },
      "source": [
        "## Prediction of test (or validation) set\n",
        "We now have to use the trained model to predict y_test."
      ]
    },
    {
      "cell_type": "code",
      "metadata": {
        "id": "KRQpG2vykzqX",
        "colab_type": "code",
        "colab": {}
      },
      "source": [
        "# Make predictions using the testing set\n",
        "y_pred = knn.predict(X_test)"
      ],
      "execution_count": 0,
      "outputs": []
    },
    {
      "cell_type": "markdown",
      "metadata": {
        "id": "xUHXoiaemXai",
        "colab_type": "text"
      },
      "source": [
        "## Evaluating performance of the model\n",
        "We need to assess performance of the model using the predictions of the test set. We use precision and recall. Here are their definitions:\n",
        "\n",
        "* **precision** is also referred to as positive predictive value (PPV)\n",
        "\n",
        "How many selected item are relevant\n",
        "\n",
        "$${\\displaystyle {\\text{Precision}}=\\text{True positive rate} = {\\frac {tp}{tp+fp}}\\,}$$\n",
        "\n",
        "\n",
        "* **recall** in this context is also referred to as the true positive rate or sensitivity\n",
        "\n",
        "How many relevant item are selected\n",
        "\n",
        "\n",
        "\n",
        "\n",
        "$${\\displaystyle {\\text{recall}}={\\frac {tp}{tp+fn}}\\,} $$\n",
        "\n",
        " \n",
        "Precision and recall will be reported for each class."
      ]
    },
    {
      "cell_type": "code",
      "metadata": {
        "id": "cAqcUM5Bmb2d",
        "colab_type": "code",
        "outputId": "18d18f46-99ae-401a-e931-15f95cb25f6d",
        "colab": {
          "base_uri": "https://localhost:8080/",
          "height": 52
        }
      },
      "source": [
        "from sklearn import metrics\n",
        "\n",
        "print(\"precision of the predictions:\", metrics.precision_score(y_test, y_pred, average=None))\n",
        "print(\"recall of the predictions:\", metrics.recall_score(y_test, y_pred, average=None))"
      ],
      "execution_count": 7,
      "outputs": [
        {
          "output_type": "stream",
          "text": [
            "precision of the predictions: [0.89473684 0.63157895 0.5       ]\n",
            "recall of the predictions: [0.73913043 0.66666667 0.61538462]\n"
          ],
          "name": "stdout"
        }
      ]
    },
    {
      "cell_type": "markdown",
      "metadata": {
        "id": "xc9bpgqRrnGD",
        "colab_type": "text"
      },
      "source": [
        "Based on the reported precision and recall, the model has higher precision for 1st class while better recall for the 2nd and 3rd classes."
      ]
    }
  ]
}