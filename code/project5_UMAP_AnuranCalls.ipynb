{
  "nbformat": 4,
  "nbformat_minor": 0,
  "metadata": {
    "colab": {
      "name": "project5_UMAP_AnuranCalls.ipynb",
      "provenance": [],
      "collapsed_sections": []
    },
    "kernelspec": {
      "name": "python3",
      "display_name": "Python 3"
    }
  },
  "cells": [
    {
      "cell_type": "markdown",
      "metadata": {
        "id": "NEEmFIm3q766",
        "colab_type": "text"
      },
      "source": [
        "# Project objective\n",
        "This project is designed to review the UMAP method and its python implementation using MFCC dataset.\n",
        "\n",
        "Information about the dataset, some technical details about the used machine learning method(s) and mathematical details of the quantifications approaches are provided in the code."
      ]
    },
    {
      "cell_type": "markdown",
      "metadata": {
        "id": "VjtJFxdsNh05",
        "colab_type": "text"
      },
      "source": [
        "# Packages we work with in this notebook\n",
        "We are going to use the following libraries and packages:\n",
        "\n",
        "* **numpy**: NumPy is the fundamental package for scientific computing with Python. (http://www.numpy.org/)\n",
        "* **pandas**: Pandas provides easy-to-use data structures and data analysis tools for Python. (https://pandas.pydata.org/)\n",
        "* **sklearn**: Scikit-learn is a machine learning library for Python programming language. (https://scikit-learn.org/stable/)\n",
        "* **matplotlib**: Matplotlib is a visualization library in Python. (https://matplotlib.org/)\n",
        "* **umap**: https://umap-learn.readthedocs.io/en/latest/"
      ]
    },
    {
      "cell_type": "code",
      "metadata": {
        "id": "57oB2idEgr-g",
        "colab_type": "code",
        "colab": {}
      },
      "source": [
        "import numpy as np\n",
        "import pandas as pd\n",
        "import matplotlib.pyplot as plt\n",
        "import sklearn as sk\n",
        "import umap"
      ],
      "execution_count": 0,
      "outputs": []
    },
    {
      "cell_type": "markdown",
      "metadata": {
        "id": "Bb1Zm7ARN5D5",
        "colab_type": "text"
      },
      "source": [
        "# Introduction to the dataset\n",
        "\n",
        "**Name**: Anuran Calls (MFCCs) dataset\n",
        "\n",
        "**Summary**: Acoustic features extracted from syllables of anuran (frogs) calls, including the family, the genus, and the species labels (multilabel).\n",
        "\n",
        "**number of features**: 22 (real) \n",
        "\n",
        "**Number of data points (instances)**: 7195\n",
        "\n",
        "**Link to the dataset**: http://archive.ics.uci.edu/ml/datasets/Anuran+Calls+%28MFCCs%29\n",
        "\n",
        "\n",
        "\n"
      ]
    },
    {
      "cell_type": "markdown",
      "metadata": {
        "id": "QjBnejgpP0Gr",
        "colab_type": "text"
      },
      "source": [
        "## Importing the dataset\n",
        "We can import the dataset in multiple ways\n",
        "\n",
        "**Colab Notebook**: You can download the dataset file (or files) from the link (if provided) and uploading it to your google drive and then you can import the file (or files) as follows:\n",
        "\n",
        "**Note.** When you run the following cell, it tries to connect the colab with google derive. Follow steps 1 to 5 in this link (https://www.marktechpost.com/2019/06/07/how-to-connect-google-colab-with-google-drive/) to complete the process. "
      ]
    },
    {
      "cell_type": "code",
      "metadata": {
        "id": "RILQWrhjQUtF",
        "colab_type": "code",
        "outputId": "fd301f4b-7297-4829-dcbe-38b0c3a8014b",
        "colab": {
          "base_uri": "https://localhost:8080/",
          "height": 34
        }
      },
      "source": [
        "from google.colab import drive\n",
        "drive.mount('/content/gdrive')\n",
        "\n",
        "# This path is common for everybody\n",
        "# This is the path to your google drive\n",
        "input_path = '/content/gdrive/My Drive/'\n",
        "file_name = 'Frogs_MFCCs.csv'\n",
        "# sometimes we need to specify \"sep\" based on column spacing in the original file\n",
        "target_dataset = pd.read_csv(input_path+file_name)"
      ],
      "execution_count": 0,
      "outputs": [
        {
          "output_type": "stream",
          "text": [
            "Drive already mounted at /content/gdrive; to attempt to forcibly remount, call drive.mount(\"/content/gdrive\", force_remount=True).\n"
          ],
          "name": "stdout"
        }
      ]
    },
    {
      "cell_type": "markdown",
      "metadata": {
        "id": "nh2t78RlrzL6",
        "colab_type": "text"
      },
      "source": [
        "**Local directory**: In case you save the data in your local directory, you need to change \"input_path\" to the local directory you saved the file (or files) in."
      ]
    },
    {
      "cell_type": "markdown",
      "metadata": {
        "id": "0Nfrx44oWNhw",
        "colab_type": "text"
      },
      "source": [
        "##Data preparation\n",
        "\n",
        "We need to prepare the dataset for machine learnign modeling. Here we need to convert categorical columns (strings) to integeres. Those columns can be used as output variable."
      ]
    },
    {
      "cell_type": "code",
      "metadata": {
        "id": "Lk-5RVR_Wcdr",
        "colab_type": "code",
        "colab": {}
      },
      "source": [
        "# converting strings in categorical features to integers\n",
        "cat_columns = target_dataset.select_dtypes(['object']).columns\n",
        "target_dataset[cat_columns] = target_dataset[cat_columns].apply(lambda x: pd.factorize(x)[0])"
      ],
      "execution_count": 0,
      "outputs": []
    },
    {
      "cell_type": "markdown",
      "metadata": {
        "id": "B8NsGjRhUuty",
        "colab_type": "text"
      },
      "source": [
        "### Separating features from output variable\n",
        "The dataframe of the target dataset has a column we would like to predict its values (output variable). We need to separate this column from the rest of the dataframe which include the features we want to use to build the model."
      ]
    },
    {
      "cell_type": "code",
      "metadata": {
        "id": "CQiG6zc-Uv3z",
        "colab_type": "code",
        "outputId": "e723a60f-32d0-4f03-9146-1cf1b5528fee",
        "colab": {
          "base_uri": "https://localhost:8080/",
          "height": 34
        }
      },
      "source": [
        "output_var = target_dataset['Species']\n",
        "input_features = target_dataset[[col for col in target_dataset.columns if 'MFCC' in col]]\n",
        "print('number of features: {}'.format(input_features.shape[0]))"
      ],
      "execution_count": 0,
      "outputs": [
        {
          "output_type": "stream",
          "text": [
            "number of features: 7195\n"
          ],
          "name": "stdout"
        }
      ]
    },
    {
      "cell_type": "markdown",
      "metadata": {
        "id": "ODzHNnzNux15",
        "colab_type": "text"
      },
      "source": [
        "# Uniform Manifold Approximation and Projection (UMAP)\n",
        "\n",
        "UMAP is an algorithm to optimally map the higher dimensional space to lower dimensions paying attention to both short and long distances. As oppose to t-SNE, we can talk abotu large distance in the results of UMAP.\n",
        "\n",
        "UMAP is a manifold learning method that is comptetitive to t-SNE for visualization quality while preserving the global structure of data, unlike t-SNE. UMAP has no computational restriction and is scalable to extremely large dataset, like GoogleNews, unlike t-SNE.\n",
        "\n",
        "UMAP uses k-nearest neighbor and uses Stochastic Gradient Descent to minimize the difference between the distances in the high dimensional and low dimensional spaces.\n",
        "\n",
        "\n",
        "**Definitions you may need for reading UMAP paper**\n",
        "\n",
        "* A n-dimensional manifold (n-manifold) M is a topological space that is locally homeomorphic to the Euclidean space of dimension n.\n",
        "* Locally homeomorphic means that every point in the space M is contained in an open set U such that there is a one-to-one onto map f:U -> M.\n",
        "* One-to-one onto map f:U -> M means that each element of M is mapped by exactly one element of U.\n",
        "* A topological space is a collection of open sets (with some mathematical properties).\n",
        "* A Riemannian (smooth) manifold M is a real smooth manifold with an inner product that varies smoothly from point to point in the tangent space of M.\n",
        "* Riemannian metric is collection of all the inner products of the points in the manifold M on the tangent space of M.\n",
        "\n",
        "* A simplicial complex K in n-dimensional real space is a collection of simplices in the space such that 1) Every face of a simplex of K is in K, and 2) The intersection of any two simplices of K is a face of each of them (Munkres 1993, p. 7; http://mathworld.wolfram.com/).\n",
        "* A simplex is the generalization of a tetrahedral region of space to n dimensions(http://mathworld.wolfram.com/)."
      ]
    },
    {
      "cell_type": "markdown",
      "metadata": {
        "id": "d0Fi1jpVkbhC",
        "colab_type": "text"
      },
      "source": [
        "## Implementing UMAP on the dataset\n",
        "We first need to initialize the model by specifying its hyperparameters and then fit using the feature values in input_features. \n",
        "\n",
        "**Parameters of UMAP:**\n",
        "\n",
        "*  ***Number of neighbors (n_neighbors)***: Number of neighboring data points used in the process of local manifold approximation. This parameters is suggested to be between 5 and 50.\n",
        "*  ***Minimum distance (min_dist)***: It is a measure of allowed compression of points together in low dimensional space. This parameters is suggested to be between 0.001 and 0.5.\n",
        "\n"
      ]
    },
    {
      "cell_type": "code",
      "metadata": {
        "id": "fj3SSteMkxb2",
        "colab_type": "code",
        "colab": {}
      },
      "source": [
        "# Initializing the model\n",
        "model_init =umap.UMAP(n_neighbors=10, min_dist=0.3, n_components=2, random_state=2)\n",
        "\n",
        "# Fitting the model using the inpur array\n",
        "embedding_umap = model_init.fit_transform(input_features)"
      ],
      "execution_count": 0,
      "outputs": []
    },
    {
      "cell_type": "markdown",
      "metadata": {
        "id": "QS5klS9mwPkT",
        "colab_type": "text"
      },
      "source": [
        "## Writing a plotting function for visualizing the results of UMAP\n",
        "UMAP is an unsupervised dimensionality reduction approach. However as we have the labes of the images, we can visualize the images in the 2-dimensional space, generated by UMAP, to check how the images are grouped together."
      ]
    },
    {
      "cell_type": "code",
      "metadata": {
        "id": "jOxLf5hpwh3X",
        "colab_type": "code",
        "colab": {}
      },
      "source": [
        "def embedding_plot(X,labels,title):\n",
        "  # scatter plot of data points \n",
        "  plt.scatter(X[:, 0], X[:, 1], c=labels, cmap='Spectral', s=5)\n",
        "  plt.gca().set_facecolor((1, 1, 1))\n",
        "  # specifyign labels of x and y axis\n",
        "  plt.xlabel('1st dimension', fontsize=24)\n",
        "  plt.ylabel('2nd dimension', fontsize=24)\n",
        "  # showing the colorbar in the figure\n",
        "  plt.colorbar(boundaries=np.arange((len(np.unique(labels))))-0.5).set_ticks(np.arange(10))\n",
        "  # removing the grid\n",
        "  plt.grid(False)\n",
        "  # specifying the plot title\n",
        "  plt.title(title, fontsize=24);"
      ],
      "execution_count": 0,
      "outputs": []
    },
    {
      "cell_type": "markdown",
      "metadata": {
        "id": "VAfGGS1vw7xR",
        "colab_type": "text"
      },
      "source": [
        "Now we can use the plotting function to show the results of UMAP on the image dataset."
      ]
    },
    {
      "cell_type": "code",
      "metadata": {
        "id": "r1KwQnYAxA2h",
        "colab_type": "code",
        "outputId": "d2f6616c-e3a0-43aa-b3d3-6327a414ec7d",
        "colab": {
          "base_uri": "https://localhost:8080/",
          "height": 317
        }
      },
      "source": [
        "embedding_plot(embedding_umap, output_var,\"UMAP\")"
      ],
      "execution_count": 0,
      "outputs": [
        {
          "output_type": "display_data",
          "data": {
            "image/png": "[encoded data removed]",
            "text/plain": [
              "<Figure size 432x288 with 2 Axes>"
            ]
          },
          "metadata": {
            "tags": [],
            "needs_background": "light"
          }
        }
      ]
    }
  ]
}