{
  "nbformat": 4,
  "nbformat_minor": 0,
  "metadata": {
    "colab": {
      "name": "project11_logisticregression_crossvalidation_breastcancer_Wisconsin.ipynb",
      "provenance": [],
      "collapsed_sections": []
    },
    "kernelspec": {
      "name": "python3",
      "display_name": "Python 3"
    }
  },
  "cells": [
    {
      "cell_type": "markdown",
      "metadata": {
        "id": "yGUNM2BEsBQ5",
        "colab_type": "text"
      },
      "source": [
        "# Project objective\n",
        "This project is designed to review logistic regression method and its python implementation using Wisconsin breast cancer dataset. Performance of the modeling will be assessed using k-fold cross validation for different k values.\n",
        "\n",
        "Information about the dataset, some technical details about the used machine learning method(s) and mathematical details of the quantifications approaches are provided in the code. "
      ]
    },
    {
      "cell_type": "markdown",
      "metadata": {
        "id": "VjtJFxdsNh05",
        "colab_type": "text"
      },
      "source": [
        "# Packages we work with in this notebook\n",
        "We are going to use the following libraries and packages:\n",
        "\n",
        "* **numpy**: NumPy is the fundamental package for scientific computing with Python. (http://www.numpy.org/)\n",
        "* **sklearn**: Scikit-learn is a machine learning library for Python programming language. (https://scikit-learn.org/stable/)\n",
        "\n",
        "We also use **warnings** to stop the notebook from returning warning messages.\n"
      ]
    },
    {
      "cell_type": "code",
      "metadata": {
        "id": "57oB2idEgr-g",
        "colab_type": "code",
        "colab": {}
      },
      "source": [
        "import numpy as np\n",
        "import sklearn as sk\n",
        "import matplotlib.pyplot as plt\n",
        "\n",
        "import warnings\n",
        "warnings.filterwarnings('ignore')"
      ],
      "execution_count": 0,
      "outputs": []
    },
    {
      "cell_type": "markdown",
      "metadata": {
        "id": "Bb1Zm7ARN5D5",
        "colab_type": "text"
      },
      "source": [
        "# Introduction to the dataset\n",
        "\n",
        "**Name**: Wisconsin breast cancer dataset\n",
        "\n",
        "**Summary**: Identifying if there is a malignant tumor or not using features that are computed from a digitized image of a fine needle aspirate (FNA) of a breast mass.\n",
        "\n",
        "**number of features**: 30 (real, positive) \n",
        "\n",
        "**Number of data points (instances)**: 569\n",
        "\n",
        "**dataset accessibility**: Dataset is available as part of sklearn package.\n",
        "\n",
        "**Link to the dataset**: http://archive.ics.uci.edu/ml/datasets/breast+cancer+wisconsin+(diagnostic)\n",
        "\n",
        "\n"
      ]
    },
    {
      "cell_type": "markdown",
      "metadata": {
        "id": "QjBnejgpP0Gr",
        "colab_type": "text"
      },
      "source": [
        "## Loading the dataset and separating features and labels\n",
        "The dataset is available as part of sklearn package. Hence, we do not need to import the data directly from UCI ML repository. "
      ]
    },
    {
      "cell_type": "code",
      "metadata": {
        "id": "RILQWrhjQUtF",
        "colab_type": "code",
        "outputId": "a2b6edb4-5f49-41a0-d8b3-4d2fb5538440",
        "colab": {
          "base_uri": "https://localhost:8080/",
          "height": 52
        }
      },
      "source": [
        "from sklearn.datasets import load_breast_cancer\n",
        "\n",
        "# Loading breast cancer data\n",
        "target_dataset = load_breast_cancer()\n",
        "\n",
        "# separating feature arrays of pixel values (X) and labels (y) \n",
        "input_features = target_dataset.data\n",
        "output_var = target_dataset.target\n",
        "# printing number of features (pixels) and data points \n",
        "n_samples, n_features = input_features.shape\n",
        "print(\"number of samples (data points):\", n_samples)\n",
        "print(\"number of features:\", n_features)"
      ],
      "execution_count": 2,
      "outputs": [
        {
          "output_type": "stream",
          "text": [
            "number of samples (data points): 569\n",
            "number of features: 30\n"
          ],
          "name": "stdout"
        }
      ]
    },
    {
      "cell_type": "markdown",
      "metadata": {
        "id": "d0Fi1jpVkbhC",
        "colab_type": "text"
      },
      "source": [
        "## Building the supervised learning model\n",
        "We want to build a binary classification model as the output variable is categorical with 2 classes. Here we build a simple logistic regression model.\n",
        "\n",
        "### Logistic regression\n",
        "If we have set of features X1 to Xn, y can be obtained as:\n",
        "\\begin{equation*} y=b0+b1X1+b2X2+...+bnXn\\end{equation*}\n",
        "\n",
        "where y is the predicted value obtained by weighted sum of the feature values.\n",
        "\n",
        "Then probability of each class (for example if there is a malignant tumor) can be obtained using the logistic function \n",
        "\n",
        "\\begin{equation*} p(class=malignant)=\\frac{1}{(1+exp(-y))} \\end{equation*}\n",
        "\n",
        "Based on the given class labels and the features given in the trainign data, coefficients b0 to bn can be ontained during the optimization process.\n",
        "\n",
        "b0 to bn are fixed for all samples while X1 to Xn are feature values specific to each sample. Hence, the logistic function will give us probability of each class assigned to each sample. Finally, the model will choose the class with the highest probability for each sample.\n",
        "\n",
        "\n",
        "**Note.** The logistic regression model is parametric and the parameters are the regression coefficiets b0 to bn."
      ]
    },
    {
      "cell_type": "markdown",
      "metadata": {
        "id": "GaWQgt52opOw",
        "colab_type": "text"
      },
      "source": [
        "## Evaluating performance of the model\n",
        "We need to assess performance of the model using the predictions of the test set. We use accuracy and balanced accuracy. Here are their definitions:\n",
        "\n",
        "* **accuracy**: This measure gives you a sense of performance for all the classes together as follows:\n",
        "\n",
        "$$ {\\displaystyle {\\text{accuracy}}={\\frac {tp+tn}{tp+tn+fp+fn}}\\,}$$\n",
        "\n",
        "\n",
        "\\begin{equation*} accuracy=\\frac{number\\:of\\:correct\\:predictions}{(total\\:number\\:of\\:data\\:points (samples))} \\end{equation*}"
      ]
    },
    {
      "cell_type": "code",
      "metadata": {
        "id": "fj3SSteMkxb2",
        "colab_type": "code",
        "outputId": "86005708-6c0b-4d0d-cbae-7fc01d922e18",
        "colab": {
          "base_uri": "https://localhost:8080/",
          "height": 70
        }
      },
      "source": [
        "from sklearn.model_selection import cross_val_score\n",
        "from sklearn.linear_model import LogisticRegression \n",
        "\n",
        "# Create logistic regression object\n",
        "logreg = LogisticRegression(random_state=10)\n",
        "\n",
        "# assessing performance of the model using k-fold cross validation\n",
        "scores = cross_val_score(logreg, input_features, output_var, cv=5)\n",
        "\n",
        "# performance in each fold\n",
        "print(\"Accuracies in each fold: \\n\" , scores)\n",
        "# average performance across all folds\n",
        "print(\"Average Accuracy across the folds: %0.2f\" % (scores.mean()))"
      ],
      "execution_count": 3,
      "outputs": [
        {
          "output_type": "stream",
          "text": [
            "Accuracies in each fold: \n",
            " [0.92982456 0.93859649 0.96491228 0.93859649 0.95575221]\n",
            "Average Accuracy across the folds: 0.95\n"
          ],
          "name": "stdout"
        }
      ]
    },
    {
      "cell_type": "markdown",
      "metadata": {
        "id": "HJTMoW36peFz",
        "colab_type": "text"
      },
      "source": [
        "## Cross-validation and checking generalizability of the model\n",
        "After training a machine learning model, we need to check its generalizability and making sure it is not just good in prediction of training set but is capable of predicting new data points. In previous projects we splitted the data to 2 parts, training and test set. We can go one step further and repeat this splitting across the dataset so that every single data point is considered in one of the test (better to be said validation) sets. This process is called k-fold cross-validation. For example in case of 5-fold cross-validation, the dataset is splitted to 5 chunks and the model is trained in 4 out of 5 chunk and tested on the remianing chunk. The test chunk is then rotated so taht every chunk is conisidered once for testing the model. Then we can get average performance of the model in the tested chunks.\n",
        "\n",
        "Now we can implement the same modeling using different k values and compare them.\n",
        "\n",
        "Note. Lack (or low level) of generalizability of a trained model to new data points is called overfitting."
      ]
    },
    {
      "cell_type": "code",
      "metadata": {
        "id": "_MJxm1JspjN0",
        "colab_type": "code",
        "outputId": "d33cd630-6c42-4493-fa32-038921476215",
        "colab": {
          "base_uri": "https://localhost:8080/",
          "height": 283
        }
      },
      "source": [
        "def kCV(model, input_df, output, k):\n",
        "  \n",
        "  scores = []\n",
        "  for k_iter in range(0,len(k)):\n",
        "    scores.append(cross_val_score(model, input_features, output_var, cv=k[k_iter]))\n",
        "    # barplot across different folds for each k value\n",
        "    plt.bar(k_iter+1+np.arange(0,len(scores[-1]))/50,height = scores[-1], width = 0.05)\n",
        "\n",
        "  # specifying parameters of the plot\n",
        "  plt.ylim(0.9, 1)\n",
        "  plt.ylabel(\"accuracy across folds\")\n",
        "  plt.xlabel(\"k values\")\n",
        "  plt.xticks([k_iter + 1 + k[k_iter]/100 for k_iter in range(0,len(k))], [str(k_iter) for k_iter in k])\n",
        "  plt.show()\n",
        "\n",
        "  # returning scores\n",
        "  return scores\n",
        "\n",
        "scores = kCV(model = logreg,\n",
        "             input_df = input_features,\n",
        "             output = output_var,\n",
        "             k = [3, 5, 10])"
      ],
      "execution_count": 4,
      "outputs": [
        {
          "output_type": "display_data",
          "data": {
            "image/png": "[encoded data removed]",
            "text/plain": [
              "<Figure size 432x288 with 1 Axes>"
            ]
          },
          "metadata": {
            "tags": [],
            "needs_background": "light"
          }
        }
      ]
    },
    {
      "cell_type": "markdown",
      "metadata": {
        "id": "bydBTg5jte3D",
        "colab_type": "text"
      },
      "source": [
        "Now we can check the average score across different folds for each k value. Although the average accuracies are very close in this case, it does not mean they will be close for all tasks. "
      ]
    },
    {
      "cell_type": "code",
      "metadata": {
        "id": "nqiasG9zruYX",
        "colab_type": "code",
        "outputId": "e201fe67-6fbc-443f-856f-cb8ab8275f9d",
        "colab": {
          "base_uri": "https://localhost:8080/",
          "height": 34
        }
      },
      "source": [
        "print('average accuracies across the folds for each k value: {}'.format([np.mean(score) for score in scores]))"
      ],
      "execution_count": 5,
      "outputs": [
        {
          "output_type": "stream",
          "text": [
            "average accuracies across the folds for each k value: [0.9437389770723104, 0.9455364073901569, 0.9437969924812031]\n"
          ],
          "name": "stdout"
        }
      ]
    }
  ]
}