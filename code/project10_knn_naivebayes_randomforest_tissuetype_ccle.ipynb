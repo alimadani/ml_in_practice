{
  "nbformat": 4,
  "nbformat_minor": 0,
  "metadata": {
    "colab": {
      "name": "project10_knn_naivebayes_randomforest_tissuetype_ccle.ipynb",
      "provenance": []
    },
    "kernelspec": {
      "name": "python3",
      "display_name": "Python 3"
    }
  },
  "cells": [
    {
      "cell_type": "markdown",
      "metadata": {
        "id": "0539Pwt1Ygwz",
        "colab_type": "text"
      },
      "source": [
        "# Project objective\n",
        "In this project, we compare naive Bayes, k-nearest neighbours and random forest machine learning methods in identifying tissue of origin of cancer cell lines using their gene expression provided in cancer cell line encyclopedia dataset.\n",
        "\n",
        "Information about the dataset, some technical details about the used machine learning method(s) and mathematical details of the quantifications approaches are provided in the code. "
      ]
    },
    {
      "cell_type": "markdown",
      "metadata": {
        "id": "VjtJFxdsNh05",
        "colab_type": "text"
      },
      "source": [
        "# Packages we work with in this notebook\n",
        "We are going to use the following libraries and packages:\n",
        "\n",
        "* **numpy**: NumPy is the fundamental package for scientific computing with Python. (http://www.numpy.org/)\n",
        "* **sklearn**: Scikit-learn is a machine learning library for Python programming language. (https://scikit-learn.org/stable/)\n",
        "* **pandas**: Pandas provides easy-to-use data structures and data analysis tools for Python. (https://pandas.pydata.org/)\n"
      ]
    },
    {
      "cell_type": "code",
      "metadata": {
        "id": "57oB2idEgr-g",
        "colab_type": "code",
        "colab": {}
      },
      "source": [
        "import numpy as np\n",
        "import pandas as pd\n",
        "import sklearn as sk"
      ],
      "execution_count": 0,
      "outputs": []
    },
    {
      "cell_type": "markdown",
      "metadata": {
        "id": "Bb1Zm7ARN5D5",
        "colab_type": "text"
      },
      "source": [
        "# Introduction to the dataset\n",
        "\n",
        "**Name**: Cancer Cell Line Encyclopedia dataset\n",
        "\n",
        "**Summary**: Identifying tissue of origin of cancer cell lines using their gene expression. Cell lines from 6 tissues were chosen for this code including: breast, central_nervous_system, haematopoietic_and_lymphoid_tissue, large_intestine, lung, skin\n",
        "\n",
        "**number of features**: 500 (real, positive) \n",
        "Top 500 genex based on variance of their expression in the dataset is chosen. The right way to select the features is to do it only on the training set to eliminate information leak from test set. But to simplify the process for the sake of this teaching code, we use all the dataset.\n",
        "\n",
        "**Number of data points (instances)**: 550\n",
        "\n",
        "**dataset accessibility**: Dataset is available as part of PharmacoGx R package (https://www.bioconductor.org/packages/release/bioc/html/PharmacoGx.html)\n",
        "\n",
        "**Link to the dataset**: https://portals.broadinstitute.org/ccle\n",
        "\n",
        "\n"
      ]
    },
    {
      "cell_type": "markdown",
      "metadata": {
        "id": "QjBnejgpP0Gr",
        "colab_type": "text"
      },
      "source": [
        "## Importing the dataset\n",
        "We can import the dataset in multiple ways\n",
        "\n",
        "**Colab Notebook**: You can download the dataset file (or files) from the link (if provided) and uploading it to your google drive and then you can import the file (or files) as follows:\n",
        "\n",
        "**Note.** When you run the following cell, it tries to connect the colab with google derive. Follow steps 1 to 5 in this link (https://www.marktechpost.com/2019/06/07/how-to-connect-google-colab-with-google-drive/) to complete the "
      ]
    },
    {
      "cell_type": "code",
      "metadata": {
        "id": "RILQWrhjQUtF",
        "colab_type": "code",
        "outputId": "99440a56-e818-41a4-9791-7c7dcf7a8251",
        "colab": {
          "base_uri": "https://localhost:8080/",
          "height": 34
        }
      },
      "source": [
        "from google.colab import drive\n",
        "drive.mount('/content/gdrive')\n",
        "\n",
        "# This path is common for everybody\n",
        "# This is the path to your google drive\n",
        "input_path = '/content/gdrive/My Drive/'\n",
        "# reading the data (target)\n",
        "target_dataset_features = pd.read_csv(input_path + 'CCLE_ExpMat_Top500Genes.csv', index_col=0)\n",
        "target_dataset_output = pd.read_csv(input_path + 'CCLE_ExpMat_Phenotype.csv', index_col=0)\n",
        "# Transposing the dataframe to put features in the dataframe columns\n",
        "target_dataset_features = target_dataset_features.transpose()"
      ],
      "execution_count": 10,
      "outputs": [
        {
          "output_type": "stream",
          "text": [
            "Drive already mounted at /content/gdrive; to attempt to forcibly remount, call drive.mount(\"/content/gdrive\", force_remount=True).\n"
          ],
          "name": "stdout"
        }
      ]
    },
    {
      "cell_type": "markdown",
      "metadata": {
        "id": "MJgoRANkcTHs",
        "colab_type": "text"
      },
      "source": [
        "**Local directory**: In case you save the data in your local directory, you need to change \"input_path\" to the local directory you saved the file (or files) in.\n",
        "\n",
        "**GitHub**: If you use my GitHub (or your own GitHub) repo, you need to change the \"input_path\" to where the file (or files) exist in the repo. For example, when I clone ***ml_projects*** from my GitHub, I need to change \"input_path\" to 'data/' as the file (or files) is saved in the data dicretory in this repository. \n",
        "\n",
        "**Note.**: You can also clone my ***ml_projects*** repository (here: https://github.com/alimadani/ml_projects) and follow the same process."
      ]
    },
    {
      "cell_type": "markdown",
      "metadata": {
        "id": "qW4bVMDCdPVW",
        "colab_type": "text"
      },
      "source": [
        "## Making sure about the dataset characteristics (number of data points and features)"
      ]
    },
    {
      "cell_type": "code",
      "metadata": {
        "id": "TpSupKvgdS3e",
        "colab_type": "code",
        "outputId": "087fb03e-0df0-42a5-acca-3679a6d9eb6c",
        "colab": {
          "base_uri": "https://localhost:8080/",
          "height": 52
        }
      },
      "source": [
        "print('number of features: {}'.format(target_dataset_features.shape[1]))\n",
        "print('number of data points: {}'.format(target_dataset_features.shape[0]))"
      ],
      "execution_count": 11,
      "outputs": [
        {
          "output_type": "stream",
          "text": [
            "number of features: 500\n",
            "number of data points: 550\n"
          ],
          "name": "stdout"
        }
      ]
    },
    {
      "cell_type": "markdown",
      "metadata": {
        "id": "UIX-LbyLeEc6",
        "colab_type": "text"
      },
      "source": [
        "## Data preparation\n",
        "We need to prepare the dataset for machine learnign modeling. Here we prepare the data in 2 steps:\n",
        "\n",
        "1) Selecting target columns from the output dataframe (target_dataset_output)\n",
        "2) Converting tissue names to integers (one for each tissue)"
      ]
    },
    {
      "cell_type": "code",
      "metadata": {
        "id": "8GI52MUkePCR",
        "colab_type": "code",
        "colab": {}
      },
      "source": [
        "# tissueid is the column that contains tissue type information\n",
        "output_var_names = target_dataset_output['tissueid']\n",
        "# converting tissue names to labels\n",
        "from sklearn import preprocessing\n",
        "le = preprocessing.LabelEncoder()\n",
        "\n",
        "le.fit(output_var_names)\n",
        "output_var = le.transform(output_var_names)\n",
        "\n",
        "# we would like to use all the features as input features of the model\n",
        "input_features = target_dataset_features"
      ],
      "execution_count": 0,
      "outputs": []
    },
    {
      "cell_type": "markdown",
      "metadata": {
        "id": "qgejl_XWhWqN",
        "colab_type": "text"
      },
      "source": [
        "## Splitting data to training and testing sets\n",
        "\n",
        "We need to split the data to train and test, if we do not have a separate dataset for validation and/or testing, to make sure about generalizability of the model we train.\n",
        "\n",
        "**test_size**: Traditionally, 30%-40% of the dataset cna be used for test set. If you split the data to train, validation and test, you can use 60%, 20% and 20% of teh dataset, respectively.\n",
        "\n",
        "**Note.**: We need the validation and test sets to be big enough for checking generalizability of our model. At the same time we would like to have as much data as possible in the training set to train a better model.\n",
        "\n",
        "**random_state** as the name suggests, is used for initializing the internal random number generator, which will decide the splitting of data into train and test indices in your case.\n"
      ]
    },
    {
      "cell_type": "code",
      "metadata": {
        "id": "V3L9BbkSg2vp",
        "colab_type": "code",
        "colab": {}
      },
      "source": [
        "from sklearn.model_selection import train_test_split\n",
        "\n",
        "X_train, X_test, y_train, y_test = train_test_split(input_features, output_var, test_size=0.30, random_state=5)"
      ],
      "execution_count": 0,
      "outputs": []
    },
    {
      "cell_type": "markdown",
      "metadata": {
        "id": "d0Fi1jpVkbhC",
        "colab_type": "text"
      },
      "source": [
        "## Building the supervised learning model\n",
        "We want to build a multi-class classification model as the output variable include multiple classes. Here we build three models using naive Bayes, k nearest neighbour and random forest algorithms.\n",
        "\n",
        "### Naive Bayes\n",
        "To understand Naive Bayes algotirhm, we need to know what Bayes theorem. Bayes theorem related conditional rpobabilities as follows:\n",
        "\n",
        "\\begin{equation*} p(A|B)p(B)=p(B|A)p(A) \\end{equation*}\n",
        "that can be rewritten as\n",
        "\n",
        "\\begin{equation*} p(A|B)=\\frac{p(B|A)p(A)}{p(B)} \\end{equation*}\n",
        "\n",
        "where p(A) and p(B) are probabilities of events A and B, respectively. p(A|B) and p(B|A) are also conditional probabilities of A given B and B given A, respectively.\n",
        "\n",
        "**Example without numbers**\n",
        "\n",
        "Now let's assume we have 3 features X1, X2 and X3 and we want to identify the probability of class C for sample A with feature values *x1*, *x2* and *x3*:\n",
        "\n",
        "\\begin{equation*} p(class=C|X1=x1, X2=x2 , X3=x3)=\\frac{p(X1=x1|class=C)p(X2=x2|lass=C)p(X3=x3|class=C)p(class=C)}{p(X1=x1)p(X2=x2)p(X3=x3)} \\end{equation*}\n",
        "\n",
        "where \n",
        "\\begin{equation*} p(X1=x1, X2=x2 , X3=x3)=p(X1=x1)p(X2=x2)p(X3=x3) \\end{equation*}\n",
        "and\n",
        "\\begin{equation*} p(X1=x1, X2=x2 , X3=x3|class=C)=p(X1=x1|class=C)p(X2=x2|class=C)p(X3=x3|lass=C)p(class=C) \\end{equation*}\n",
        "\n",
        "as the features are independent variables. \n",
        "\n",
        "**Real life example with numbers**\n",
        "\n",
        "We want to know the chance of having breast cancer if the diagnosis test is positive for a woman with the age between 40 and 60. This example is mainly for understanding Bayes theorem not Naive Bayes classifier. In case of Naive Bayes algorithm, this process can be easily extended to multiple features as described in the above example.\n",
        "\n",
        "***Assumptions (not necessarily correct)***\n",
        "\n",
        "* 2% of women between 40 and 60 have breast cancer\n",
        "* True positive rate is 95% (if a woman has breast cancer, it will be diagnosed with 95% probability). Therefore, 5% of the time the women without breast cancer will be diagnosed positively by the test.\n",
        "\n",
        "Now the question is *What is the chance of havign breast cancer if a woman has positive result from a diagnosis test?*\n",
        "\n",
        "\\begin{equation*} p(having \\quad breast \\quad cancer|positive)=\\frac{p(positive|breast \\quad cancer)p(breast cancer)}{p(positive)} \\end{equation*}\n",
        "\n",
        "where \n",
        "\n",
        "\n",
        "\\begin{equation*} p(positive) = p(positive|having \\quad breast \\quad cancer)p(having \\quad breast \\quad cancer) \\\\+ p(positive|not \\quad having \\quad breast \\quad cancer)p(not \\quad having \\quad breast \\quad cancer)\\\\=\n",
        "0.95*0.02+0.05*0.98\\\\=0.068\\end{equation*}\n",
        "\n",
        "Therefore,\n",
        "\n",
        "\\begin{equation*} p(having \\quad breast  \\quad cancer|positive)=\\frac{p(positive|breast \\quad cancer)p(having \\quad breast \\quad cancer)}{p(positive)}\\\\= \\frac{0.95*0.02}{0.068}\\\\=0.28\\end{equation*}\n",
        "\n",
        "\n",
        "As we can see, there is only 28% chance of having cancer upon positive test result. Although the numbers were not clinically valid numbers, we deal with similar results in disease diagnosis. This is one of the reasons that further checkups by phycisions are mandatory upon positive results. Do not panic when you have a positive result but follow up with your doctor immediately.\n",
        "\n",
        "**Note.** Naive Bayes classifier is called ***Naive*** as it assumes each feature will independently contribute in prediction of a class for each data point (sample).\n",
        "\n",
        "\n",
        "### k-nearest neighbours(kNN)\n",
        "k-nearest neighbours uses a distance metric like Euclidean distance to identity similarity of a data point (sample) to the other data points (samples) in the trainign set. Then based on the user specified k, it finds the k closest points (samples) to the target data point. Afterward, it chooses the most frequent label among the k closes points (majority voting) as the class label of the target sample. The class labels can be also assigned based on weighted voting of the k closest data points to the data point. \n",
        "\n",
        "This process is basis of identifying regions in the space belong to each class. For small k (k=1 or 2) the space may look like collection of islands belonging to diffeerent classes. While getting to higher k values make the islands connected to become class territories.\n",
        "\n",
        "### Decision tree\n",
        "A decision tree is built starting from the best feature splitting the data points to 2 purest possible groups. Then each group is splitted again by next best features for purification of groups. Akthough this process can be continued till getting to 100% purity (having only one class) in each group, it would probably lower than generalizability of the model. Hence, we usually cut the tree before getting to 100% purity.\n",
        "\n",
        "### Random forest\n",
        "Decision trees usually have high variance, meaning their prediction performance varies largely between datasets. To overcome this issue we can rely on concept of ensemble learning. In ensemble learning we want to use wisdom of crowd instead of single classifier. For example, random forest as an ensemble model uses multiple decision trees to predict class of each data point. Here is the process of bulding a random forest model:\n",
        "\n",
        "1) Randomly sampling data points with replacement (bootstrapping)\n",
        "\n",
        "2) Randomly selecting the features \n",
        "\n",
        "3) Build a decision tree using the randomly selected data points and features in steps 1 and 2.\n",
        "\n",
        "4) Building multiple decision trees as decsribed in steps 1 to 3\n",
        "\n",
        "5) Using majority vote of all the decision trees as the identified class for a given data point"
      ]
    },
    {
      "cell_type": "code",
      "metadata": {
        "id": "fj3SSteMkxb2",
        "colab_type": "code",
        "outputId": "4d080690-98fa-4db1-9b2f-8346f052b11d",
        "colab": {
          "base_uri": "https://localhost:8080/",
          "height": 34
        }
      },
      "source": [
        "from sklearn.naive_bayes import GaussianNB\n",
        "from sklearn.ensemble import RandomForestClassifier \n",
        "from sklearn.neighbors import KNeighborsClassifier\n",
        "\n",
        "# Create k nearest neighbour object\n",
        "knn = KNeighborsClassifier(n_neighbors=5, weights='distance')\n",
        "\n",
        "# Create random forest object\n",
        "rf = RandomForestClassifier(random_state=10)\n",
        "\n",
        "# Create naive Bayes object\n",
        "nb = GaussianNB()\n",
        "\n",
        "# Train the models using the training sets\n",
        "knn.fit(X_train, y_train)\n",
        "rf.fit(X_train, y_train)\n",
        "nb.fit(X_train, y_train)"
      ],
      "execution_count": 14,
      "outputs": [
        {
          "output_type": "execute_result",
          "data": {
            "text/plain": [
              "GaussianNB(priors=None, var_smoothing=1e-09)"
            ]
          },
          "metadata": {
            "tags": []
          },
          "execution_count": 14
        }
      ]
    },
    {
      "cell_type": "markdown",
      "metadata": {
        "id": "zUWtodtDmFAW",
        "colab_type": "text"
      },
      "source": [
        "## Prediction of test (or validation) set\n",
        "We now have to use the trained model to predict y_test."
      ]
    },
    {
      "cell_type": "code",
      "metadata": {
        "id": "KRQpG2vykzqX",
        "colab_type": "code",
        "colab": {}
      },
      "source": [
        "# Make predictions using the testing set\n",
        "y_pred_knn = knn.predict(X_test)\n",
        "y_pred_rf = rf.predict(X_test)\n",
        "y_pred_nb = nb.predict(X_test)"
      ],
      "execution_count": 0,
      "outputs": []
    },
    {
      "cell_type": "markdown",
      "metadata": {
        "id": "xUHXoiaemXai",
        "colab_type": "text"
      },
      "source": [
        "## Evaluating performance of the model\n",
        "We need to assess performance of the model using the predictions of the test set. We use accuracy and balanced accuracy. Here are their definitions:\n",
        "\n",
        "* **recall** in this context is also referred to as the true positive rate or sensitivity\n",
        "\n",
        "How many relevant item are selected\n",
        "\n",
        "\n",
        "\n",
        "\n",
        "$${\\displaystyle {\\text{recall}}={\\frac {tp}{tp+fn}}\\,} $$\n",
        "\n",
        " \n",
        "\n",
        "* **specificity** true negative rate\n",
        "\n",
        "\n",
        "\n",
        "$${\\displaystyle {\\text{true negative rate}}={\\frac {tn}{tn+fp}}\\,}$$\n",
        "\n",
        "* **accuracy**: This measure gives you a sense of performance for all the classes together as follows:\n",
        "\n",
        "$$ {\\displaystyle {\\text{accuracy}}={\\frac {tp+tn}{tp+tn+fp+fn}}\\,}$$\n",
        "\n",
        "\n",
        "\\begin{equation*} accuracy=\\frac{number\\:of\\:correct\\:predictions}{(total\\:number\\:of\\:data\\:points (samples))} \\end{equation*}\n",
        "\n",
        "\n",
        "* **balanced accuracy**: This measure gives you a sense of performance for all the classes together as follows:\n",
        "\n",
        "$${\\displaystyle {\\text{balanced accuracy}}={\\frac {recall+specificity\n",
        "}{2}}\\,}$$\n"
      ]
    },
    {
      "cell_type": "code",
      "metadata": {
        "id": "cAqcUM5Bmb2d",
        "colab_type": "code",
        "outputId": "ca76d7d6-5b88-490c-f00c-a1258d96ae73",
        "colab": {
          "base_uri": "https://localhost:8080/",
          "height": 194
        }
      },
      "source": [
        "from sklearn import metrics\n",
        "\n",
        "print(\"comparing accuracies of the models using the test set\")\n",
        "print(\"accuracy of the predictions using kNN:\", metrics.accuracy_score(y_test, y_pred_knn))\n",
        "print(\"accuracy of the predictions using random forest:\", metrics.accuracy_score(y_test, y_pred_rf))\n",
        "print(\"accuracy of the predictions using naive Bayes:\", metrics.accuracy_score(y_test, y_pred_nb))\n",
        "\n",
        "print(\"\\n\\ncomparing balanced accuracies of the models using the test set\")\n",
        "print(\"blanced accuracy of the predictions using kNN:\", metrics.balanced_accuracy_score(y_test, y_pred_knn))\n",
        "print(\"blanced accuracy of the predictions using random forest:\", metrics.balanced_accuracy_score(y_test, y_pred_rf))\n",
        "print(\"blanced accuracy of the predictions using naive Bayes:\", metrics.balanced_accuracy_score(y_test, y_pred_nb))"
      ],
      "execution_count": 16,
      "outputs": [
        {
          "output_type": "stream",
          "text": [
            "comparing accuracies of the models using the test set\n",
            "accuracy of the predictions using kNN: 0.9272727272727272\n",
            "accuracy of the predictions using random forest: 0.9030303030303031\n",
            "accuracy of the predictions using naive Bayes: 0.9151515151515152\n",
            "\n",
            "\n",
            "comparing balanced accuracies of the models using the test set\n",
            "blanced accuracy of the predictions using kNN: 0.889917852615221\n",
            "blanced accuracy of the predictions using random forest: 0.8541193309614363\n",
            "blanced accuracy of the predictions using naive Bayes: 0.9045060422034106\n"
          ],
          "name": "stdout"
        }
      ]
    },
    {
      "cell_type": "markdown",
      "metadata": {
        "id": "DOgGjnDzQGqe",
        "colab_type": "text"
      },
      "source": [
        "Note. In case of small dataset, we can implement multiple data splitting and then compare performance of the models for all the test sets. Then we will be ablw to assess significance of the difference between performance of different methods. We will review this analysis in futrue projects."
      ]
    }
  ]
}