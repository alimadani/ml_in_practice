{
  "nbformat": 4,
  "nbformat_minor": 0,
  "metadata": {
    "colab": {
      "name": "project17_neuralnet_architectiresearch_tissuetype_ccle.ipynb",
      "provenance": [],
      "collapsed_sections": []
    },
    "kernelspec": {
      "name": "python3",
      "display_name": "Python 3"
    }
  },
  "cells": [
    {
      "cell_type": "markdown",
      "metadata": {
        "id": "0539Pwt1Ygwz",
        "colab_type": "text"
      },
      "source": [
        "# Project objective\n",
        "In this project, we build multiple neural network models for predicting tissue of origin of cancer cell lines using their gene expression provided in cancer cell line encyclopedia dataset. All networks have 2 hidden layers with different number of neurons in each layer. The hyperparameter seacrh can be done in keras with simple function call but e implemented in a for loop here to describe the concept step by step.\n",
        "\n",
        "Information about the dataset, some technical details about the used machine learning method(s) and mathematical details of the quantifications approaches are provided in the code. "
      ]
    },
    {
      "cell_type": "markdown",
      "metadata": {
        "id": "VjtJFxdsNh05",
        "colab_type": "text"
      },
      "source": [
        "# Packages we work with in this notebook\n",
        "We are going to use the following libraries and packages:\n",
        "\n",
        "* **numpy**: NumPy is the fundamental package for scientific computing with Python. (http://www.numpy.org/)\n",
        "* **sklearn**: Scikit-learn is a machine learning library for Python programming language. (https://scikit-learn.org/stable/)\n",
        "* **pandas**: Pandas provides easy-to-use data structures and data analysis tools for Python. (https://pandas.pydata.org/)\n",
        "* **keras**: keras is a widely-used neural network framework in python. "
      ]
    },
    {
      "cell_type": "code",
      "metadata": {
        "id": "57oB2idEgr-g",
        "colab_type": "code",
        "colab": {}
      },
      "source": [
        "#import numpy as np\n",
        "import pandas as pd\n",
        "#import sklearn\n",
        "#import keras "
      ],
      "execution_count": 484,
      "outputs": []
    },
    {
      "cell_type": "code",
      "metadata": {
        "id": "kOVSr7jF00Ns",
        "colab_type": "code",
        "colab": {}
      },
      "source": [
        "# make sure the results are reproducible\n",
        "seed_value = 10\n",
        "\n",
        "import numpy as np\n",
        "import random as python_random\n",
        "import tensorflow as tf\n",
        "import os\n",
        "os.environ['PYTHONHASHSEED'] = str(seed_value)\n",
        "\n",
        "np.random.seed(seed_value)\n",
        "python_random.seed(seed_value)\n",
        "tf.random.set_seed(seed_value)"
      ],
      "execution_count": 485,
      "outputs": []
    },
    {
      "cell_type": "markdown",
      "metadata": {
        "id": "Bb1Zm7ARN5D5",
        "colab_type": "text"
      },
      "source": [
        "# Introduction to the dataset\n",
        "\n",
        "**Name**: Cancer Cell Line Encyclopedia dataset\n",
        "\n",
        "**Summary**: Identifying tissue of origin of cancer cell lines using their gene expression. Cell lines from 6 tissues were chosen for this code including: breast, central_nervous_system, haematopoietic_and_lymphoid_tissue, large_intestine, lung, skin\n",
        "\n",
        "**number of features**: 500 (real, positive) \n",
        "Top 500 genex based on variance of their expression in the dataset is chosen. The right way to select the features is to do it only on the training set to eliminate information leak from test set. But to simplify the process for the sake of this teaching code, we use all the dataset.\n",
        "\n",
        "**Number of data points (instances)**: 550\n",
        "\n",
        "**dataset accessibility**: Dataset is available as part of PharmacoGx R package (https://www.bioconductor.org/packages/release/bioc/html/PharmacoGx.html)\n",
        "\n",
        "**Link to the dataset**: https://portals.broadinstitute.org/ccle\n",
        "\n",
        "\n"
      ]
    },
    {
      "cell_type": "markdown",
      "metadata": {
        "id": "QjBnejgpP0Gr",
        "colab_type": "text"
      },
      "source": [
        "## Importing the dataset\n",
        "We can import the dataset in multiple ways\n",
        "\n",
        "**Colab Notebook**: You can download the dataset file (or files) from the link (if provided) and uploading it to your google drive and then you can import the file (or files) as follows:\n",
        "\n",
        "**Note.** When you run the following cell, it tries to connect the colab with google derive. Follow steps 1 to 5 in this link (https://www.marktechpost.com/2019/06/07/how-to-connect-google-colab-with-google-drive/) to complete the "
      ]
    },
    {
      "cell_type": "code",
      "metadata": {
        "id": "RILQWrhjQUtF",
        "colab_type": "code",
        "colab": {
          "base_uri": "https://localhost:8080/",
          "height": 34
        },
        "outputId": "60b2dbaf-5300-4aff-8a01-7feb1eaf9c85"
      },
      "source": [
        "from google.colab import drive\n",
        "drive.mount('/content/gdrive')\n",
        "\n",
        "# This path is common for everybody\n",
        "# This is the path to your google drive\n",
        "input_path = '/content/gdrive/My Drive/'\n",
        "# reading the data (target)\n",
        "target_dataset_features = pd.read_csv(input_path + 'CCLE_ExpMat_Top500Genes.csv', index_col=0)\n",
        "target_dataset_output = pd.read_csv(input_path + 'CCLE_ExpMat_Phenotype.csv', index_col=0)\n",
        "# Transposing the dataframe to put features in the dataframe columns\n",
        "target_dataset_features = target_dataset_features.transpose()"
      ],
      "execution_count": 486,
      "outputs": [
        {
          "output_type": "stream",
          "text": [
            "Drive already mounted at /content/gdrive; to attempt to forcibly remount, call drive.mount(\"/content/gdrive\", force_remount=True).\n"
          ],
          "name": "stdout"
        }
      ]
    },
    {
      "cell_type": "markdown",
      "metadata": {
        "id": "MJgoRANkcTHs",
        "colab_type": "text"
      },
      "source": [
        "**Local directory**: In case you save the data in your local directory, you need to change \"input_path\" to the local directory you saved the file (or files) in.\n",
        "\n",
        "**GitHub**: If you use my GitHub (or your own GitHub) repo, you need to change the \"input_path\" to where the file (or files) exist in the repo. For example, when I clone ***ml_in_practice*** from my GitHub, I need to change \"input_path\" to 'data/' as the file (or files) is saved in the data dicretory in this repository. \n",
        "\n",
        "**Note.**: You can also clone my ***ml_in_practice*** repository (here: https://github.com/alimadani/ml_in_practice) and follow the same process."
      ]
    },
    {
      "cell_type": "markdown",
      "metadata": {
        "id": "qW4bVMDCdPVW",
        "colab_type": "text"
      },
      "source": [
        "## Making sure about the dataset characteristics (number of data points and features)"
      ]
    },
    {
      "cell_type": "code",
      "metadata": {
        "id": "TpSupKvgdS3e",
        "colab_type": "code",
        "colab": {
          "base_uri": "https://localhost:8080/",
          "height": 51
        },
        "outputId": "76dea8c9-3deb-45e9-8f6d-7bea0a53041b"
      },
      "source": [
        "print('number of features: {}'.format(target_dataset_features.shape[1]))\n",
        "print('number of data points: {}'.format(target_dataset_features.shape[0]))"
      ],
      "execution_count": 487,
      "outputs": [
        {
          "output_type": "stream",
          "text": [
            "number of features: 500\n",
            "number of data points: 550\n"
          ],
          "name": "stdout"
        }
      ]
    },
    {
      "cell_type": "markdown",
      "metadata": {
        "id": "UIX-LbyLeEc6",
        "colab_type": "text"
      },
      "source": [
        "## Data preparation\n",
        "We need to prepare the dataset for machine learnign modeling. Here we prepare the data in 2 steps:\n",
        "\n",
        "1) Selecting target columns from the output dataframe (target_dataset_output)\n",
        "\n",
        "2) Converting tissue names to integers (one for each tissue)\n",
        "\n",
        "3) Converting the integer array of labels to one-hot encodings to be used in neural network modeling"
      ]
    },
    {
      "cell_type": "code",
      "metadata": {
        "id": "8GI52MUkePCR",
        "colab_type": "code",
        "colab": {}
      },
      "source": [
        "# tissueid is the column that contains tissue type information\n",
        "output_var_names = target_dataset_output['tissueid']\n",
        "# converting tissue names to labels\n",
        "from sklearn import preprocessing\n",
        "le = preprocessing.LabelEncoder()\n",
        "\n",
        "le.fit(output_var_names)\n",
        "output_var = le.transform(output_var_names)\n",
        "\n",
        "class_number = len(np.unique(output_var))\n",
        "# transforming the output array to an array of one hot vectors\n",
        "# it measn that we have a vector for each datapoint\n",
        "# with length equal to the number of classes\n",
        "# Depending on the class of each datapoint, \n",
        "# one of the values (for that class) will be one\n",
        "# and the rest of them will be zero for each data point \n",
        "\n",
        "# .reshape(-1,1) has to be used to transform a 1d array of class\n",
        "# numbers to a 2d array ready to be encoded by OneHotEncoder\n",
        "from sklearn.preprocessing import OneHotEncoder\n",
        "ohe = OneHotEncoder()\n",
        "output_var = ohe.fit_transform(output_var.reshape(-1,1)).toarray()\n",
        "\n",
        "# we would like to use all the features as input features of the model\n",
        "input_features = target_dataset_features"
      ],
      "execution_count": 488,
      "outputs": []
    },
    {
      "cell_type": "markdown",
      "metadata": {
        "id": "qgejl_XWhWqN",
        "colab_type": "text"
      },
      "source": [
        "## Splitting data to training and testing sets\n",
        "\n",
        "We need to split the data to train and test, if we do not have a separate dataset for validation and/or testing, to make sure about generalizability of the model we train.\n",
        "\n",
        "**test_size**: Traditionally, 30%-40% of the dataset cna be used for test set. If you split the data to train, validation and test, you can use 60%, 20% and 20% of the dataset, respectively.\n",
        "\n",
        "**Note.**: We need the validation and test sets to be big enough for checking generalizability of our model. At the same time we would like to have as much data as possible in the training set to train a better model.\n",
        "\n",
        "**random_state** as the name suggests, is used for initializing the internal random number generator, which will decide the splitting of data into train and test indices in your case.\n"
      ]
    },
    {
      "cell_type": "code",
      "metadata": {
        "id": "V3L9BbkSg2vp",
        "colab_type": "code",
        "colab": {}
      },
      "source": [
        "from sklearn.model_selection import train_test_split\n",
        "\n",
        "X_train, X_test, y_train, y_test = train_test_split(input_features, output_var, test_size=0.20, random_state=seed_value)"
      ],
      "execution_count": 489,
      "outputs": []
    },
    {
      "cell_type": "markdown",
      "metadata": {
        "id": "d0Fi1jpVkbhC",
        "colab_type": "text"
      },
      "source": [
        "## Building the supervised learning model\n",
        "We want to build a multi-class classification model as the output variable include multiple classes. Here we build a neural network model with 2 hidden layers. A neural network with 2 or more hidden layers are called deep neural network. So technical it is a deep learning code. As you can see the implementation of a deep learning model is not difficult. But knowing how to interpret it, how to fine-tune the model and avoid overfitting are the parts that need experience and more knowledge.\n",
        "\n",
        "\n",
        "### Fully connected neural network\n"
      ]
    },
    {
      "cell_type": "code",
      "metadata": {
        "id": "fj3SSteMkxb2",
        "colab_type": "code",
        "colab": {}
      },
      "source": [
        "from tensorflow.keras.models import Sequential\n",
        "from tensorflow.keras.layers import Dense\n",
        "from sklearn import metrics\n",
        "\n",
        "# Specifying lists of layers of neural network models as a dictionary  \n",
        "# In reality the search in the architecture could be more comprehensive\n",
        "# but for the sake of this practice project, \n",
        "# 3 different architectures are used\n",
        "nnet_layers = {'256-128': [256, 128],\n",
        "               '256-64': [256, 64],\n",
        "               '128-64': [128, 64]}"
      ],
      "execution_count": 490,
      "outputs": []
    },
    {
      "cell_type": "markdown",
      "metadata": {
        "id": "w__boYrQvg93",
        "colab_type": "text"
      },
      "source": [
        "We need to define a function to transform one-hot vectors of labels to list of classes taht can be easily used later for model assessment. It is possible to use keras for model assessment even in test set, but we continue using sklearn.metrics for the simplicity."
      ]
    },
    {
      "cell_type": "code",
      "metadata": {
        "id": "lJ5LUC0tt2yT",
        "colab_type": "code",
        "colab": {}
      },
      "source": [
        "def transform_onehot(onehot_labels):\n",
        "  labels = list()\n",
        "  for i in range(len(onehot_labels)):\n",
        "      labels.append(np.argmax(onehot_labels[i]))\n",
        "\n",
        "  return labels"
      ],
      "execution_count": 491,
      "outputs": []
    },
    {
      "cell_type": "markdown",
      "metadata": {
        "id": "HFIuU7s9v36H",
        "colab_type": "text"
      },
      "source": [
        "The random seed is determined in the following cell to make sure about erproducibility of the results. As we would like to implement early stopping (needed for hyperparameter search), EarlyStopping is also initialized. "
      ]
    },
    {
      "cell_type": "code",
      "metadata": {
        "id": "801wXIe9vJcq",
        "colab_type": "code",
        "colab": {}
      },
      "source": [
        "\n",
        "# Let's implement an early stopping\n",
        "from tensorflow.keras.callbacks import EarlyStopping\n",
        "# stop training when the performance stops improving\n",
        "#es = EarlyStopping(monitor='val_loss', mode='min', verbose=1)\n",
        "# same as above but the trainign stops with a delay (patience parameter)\n",
        "es = EarlyStopping(monitor='val_loss', mode='min', verbose=1, patience=10)"
      ],
      "execution_count": 492,
      "outputs": []
    },
    {
      "cell_type": "markdown",
      "metadata": {
        "id": "fgszolas0q7X",
        "colab_type": "text"
      },
      "source": [
        "Now we fit our neural network model using the trainign set:"
      ]
    },
    {
      "cell_type": "code",
      "metadata": {
        "id": "Od9xWVWhzp28",
        "colab_type": "code",
        "colab": {
          "base_uri": "https://localhost:8080/",
          "height": 68
        },
        "outputId": "7c39ab2c-c4cb-4636-8435-0a469ae46e3b"
      },
      "source": [
        "acuracy = {}\n",
        "balanced_accuracy = {}\n",
        "for name, architecture in nnet_layers.items():\n",
        "  # building a neural network model\n",
        "  model = Sequential()\n",
        "  # adding 1st hidden layer with 128 neurons and relu as its activation function\n",
        "  # input_dim should be specified as the number of input features\n",
        "  model.add(Dense(architecture[0], input_dim=target_dataset_features.shape[1], activation='relu',\n",
        "                  kernel_initializer=keras.initializers.glorot_uniform(seed=seed_value)))\n",
        "  # adding 2nd hidden layer with 32 neurons and relu as its activation function\n",
        "  model.add(Dense(architecture[1], activation='relu',\n",
        "                  kernel_initializer=keras.initializers.glorot_uniform(seed=seed_value)))\n",
        "  # adding the output layer (softmax is used to generate probabilities for each predicted class)\n",
        "  # Size if the last layer should be equal to the total number of classes in the dataset\n",
        "  model.add(Dense(class_number, activation='softmax'))\n",
        "\n",
        "  # compiling the model using cross-entropy for categorical variables,\n",
        "  # as we are dealing with multi-class classification\n",
        "  # Adam optimization algorithm is also used\n",
        "  # Accuracy is used as the metric to assess performance of our model\n",
        "  model.compile(loss='categorical_crossentropy', optimizer='adam', metrics=['accuracy'],)\n",
        "\n",
        "  # Train the model using the training set\n",
        "  # es (early stopping) is used to sop the training process when the overfitting starts\n",
        "  # validation_split=0.2 makes sure that 20% of the datapoints in the training set\n",
        "  # will be set aside as validation set and would be used for early stopping\n",
        "  model.fit(X_train, y_train, epochs=300, batch_size=64, validation_split=0.2,verbose=0, callbacks=[es])\n",
        "\n",
        "  # To be able to assess the performance of the predictions in the test set\n",
        "  # using metrics class in sklearn, we need to transform the true lables\n",
        "  # and the predictions from one-hot encodings to lists.\n",
        "  y_pred = model.predict(X_test)\n",
        "  #Converting predictions to label\n",
        "  pred = transform_onehot(onehot_labels = y_pred)\n",
        "  #Converting one hot encoded test label to label\n",
        "  test = transform_onehot(onehot_labels = y_test)\n",
        "\n",
        "  acuracy[name] = metrics.accuracy_score(pred,test)*100\n",
        "  balanced_accuracy[name] = metrics.balanced_accuracy_score(pred, test)*100"
      ],
      "execution_count": 493,
      "outputs": [
        {
          "output_type": "stream",
          "text": [
            "Epoch 00021: early stopping\n",
            "Epoch 00021: early stopping\n",
            "Epoch 00023: early stopping\n"
          ],
          "name": "stdout"
        }
      ]
    },
    {
      "cell_type": "code",
      "metadata": {
        "id": "g5ifs6evrtO9",
        "colab_type": "code",
        "colab": {
          "base_uri": "https://localhost:8080/",
          "height": 85
        },
        "outputId": "9f549728-1a1a-4600-dacf-0bb7fbe08d61"
      },
      "source": [
        "print('accuracy of the models, in the test set, built using different architectures: \\n', acuracy)\n",
        "print('balanced accuracy of the models, in the test set, built using different architectures: \\n', balanced_accuracy)"
      ],
      "execution_count": 494,
      "outputs": [
        {
          "output_type": "stream",
          "text": [
            "accuracy of the models, in the test set, built using different architectures: \n",
            " {'256-128': 88.18181818181819, '256-64': 91.81818181818183, '128-64': 90.9090909090909}\n",
            "balanced accuracy of the models, in the test set, built using different architectures: \n",
            " {'256-128': 87.23560390227057, '256-64': 90.76486576486577, '128-64': 90.7716049382716}\n"
          ],
          "name": "stdout"
        }
      ]
    },
    {
      "cell_type": "markdown",
      "metadata": {
        "id": "g_VHoeCqvQIU",
        "colab_type": "text"
      },
      "source": [
        "Note. These are thre results obtained with one random seed. It need to be repreated for multiple random seed to identify the differences between the models that is not just caused by random initialization of network and shuffling of datapoints."
      ]
    },
    {
      "cell_type": "markdown",
      "metadata": {
        "id": "C-Uby3AV1OID",
        "colab_type": "text"
      },
      "source": [
        "## Mathematical definition of performance metrics used to assess performances of the models\n",
        "We need to assess performance of the model using the predictions of the test set. We use accuracy and balanced accuracy. Here are their definitions:\n",
        "\n",
        "* **recall** in this context is also referred to as the true positive rate or sensitivity\n",
        "\n",
        "How many relevant item are selected\n",
        "\n",
        "\n",
        "\n",
        "\n",
        "$${\\displaystyle {\\text{recall}}={\\frac {tp}{tp+fn}}\\,} $$\n",
        "\n",
        " \n",
        "\n",
        "* **specificity** true negative rate\n",
        "\n",
        "\n",
        "\n",
        "$${\\displaystyle {\\text{true negative rate}}={\\frac {tn}{tn+fp}}\\,}$$\n",
        "\n",
        "* **accuracy**: This measure gives you a sense of performance for all the classes together as follows:\n",
        "\n",
        "$$ {\\displaystyle {\\text{accuracy}}={\\frac {tp+tn}{tp+tn+fp+fn}}\\,}$$\n",
        "\n",
        "\n",
        "\\begin{equation*} accuracy=\\frac{number\\:of\\:correct\\:predictions}{(total\\:number\\:of\\:data\\:points (samples))} \\end{equation*}\n",
        "\n",
        "\n",
        "* **balanced accuracy**: This measure gives you a sense of performance for all the classes together as follows:\n",
        "\n",
        "$${\\displaystyle {\\text{balanced accuracy}}={\\frac {recall+specificity\n",
        "}{2}}\\,}$$\n"
      ]
    }
  ]
}