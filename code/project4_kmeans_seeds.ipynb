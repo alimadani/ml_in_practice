{
  "nbformat": 4,
  "nbformat_minor": 0,
  "metadata": {
    "colab": {
      "name": "project4_kmeans_seeds.ipynb",
      "provenance": []
    },
    "kernelspec": {
      "name": "python3",
      "display_name": "Python 3"
    }
  },
  "cells": [
    {
      "cell_type": "markdown",
      "metadata": {
        "id": "DhmCz48SUmcV",
        "colab_type": "text"
      },
      "source": [
        "# Project objective\n",
        "This project is designed to review k-means clustering method and its python implementation using seed dataset.\n",
        "\n",
        "Information about the dataset, some technical details about the used machine learning method(s) and mathematical details of the quantifications approaches are provided in the code."
      ]
    },
    {
      "cell_type": "markdown",
      "metadata": {
        "id": "VjtJFxdsNh05",
        "colab_type": "text"
      },
      "source": [
        "# Packages we work with in this notebook\n",
        "We are going to use the following libraries and packages:\n",
        "\n",
        "* **numpy**: NumPy is the fundamental package for scientific computing with Python. (http://www.numpy.org/)\n",
        "* **sklearn**: Scikit-learn is a machine learning library for Python programming language. (https://scikit-learn.org/stable/)\n",
        "* **Seaborn**: Seaborn is a visualization library in Python. https://seaborn.pydata.org/\n",
        "* **matplotlib**: Matplotlib is a visualization library in Python. (https://matplotlib.org/)\n",
        "* **pandas**: Pandas provides easy-to-use data structures and data analysis tools for Python. (https://pandas.pydata.org/)\n"
      ]
    },
    {
      "cell_type": "code",
      "metadata": {
        "id": "57oB2idEgr-g",
        "colab_type": "code",
        "colab": {}
      },
      "source": [
        "import numpy as np\n",
        "import pandas as pd\n",
        "import seaborn as sns\n",
        "import matplotlib.pyplot as plt\n",
        "import sklearn as sk"
      ],
      "execution_count": 0,
      "outputs": []
    },
    {
      "cell_type": "markdown",
      "metadata": {
        "id": "Bb1Zm7ARN5D5",
        "colab_type": "text"
      },
      "source": [
        "# Introduction to the dataset\n",
        "\n",
        "**Name**: Seeds dataset\n",
        "\n",
        "**Summary**: Measurements of geometrical properties of kernels belonging to three different varieties of wheat.\n",
        "\n",
        "**number of features**: 7 (real) \n",
        "\n",
        "**Number of data points (instances)**: 210\n",
        "\n",
        "**Link to the dataset**: https://www.kaggle.com/dongeorge/seed-from-uci#Seed_Data.csv\n",
        "\n"
        "** Downloadable link to the dataset**: https://bit.ly/2XdCvam\n",
        "\n"
      ]
    },
    {
      "cell_type": "markdown",
      "metadata": {
        "id": "QjBnejgpP0Gr",
        "colab_type": "text"
      },
      "source": [
        "## Importing the dataset\n",
        "We can import the dataset in multiple ways\n",
        "\n",
        "**Colab Notebook**: You can download the dataset file (or files) from the link (if provided) and uploading it to your google drive and then you can import the file (or files) as follows:\n",
        "\n",
        "**Note.** When you run the following cell, it tries to connect the colab with google derive. Follow steps 1 to 5 in this link (https://www.marktechpost.com/2019/06/07/how-to-connect-google-colab-with-google-drive/) to complete the process. "
      ]
    },
    {
      "cell_type": "code",
      "metadata": {
        "id": "RILQWrhjQUtF",
        "colab_type": "code",
        "outputId": "cddcfcce-e0fb-436a-d3cb-9dafe33318e0",
        "colab": {
          "base_uri": "https://localhost:8080/",
          "height": 34
        }
      },
      "source": [
        "from google.colab import drive\n",
        "drive.mount('/content/gdrive')\n",
        "\n",
        "# This path is common for everybody\n",
        "# This is the path to your google drive\n",
        "input_path = '/content/gdrive/My Drive/'\n",
        "file_name = 'Seed_Data.csv'\n",
        "# sometimes we need to specify \"sep\" based on column spacing in the original file\n",
        "target_dataset = pd.read_csv(input_path+file_name, index_col=0)"
      ],
      "execution_count": 40,
      "outputs": [
        {
          "output_type": "stream",
          "text": [
            "Drive already mounted at /content/gdrive; to attempt to forcibly remount, call drive.mount(\"/content/gdrive\", force_remount=True).\n"
          ],
          "name": "stdout"
        }
      ]
    },
    {
      "cell_type": "markdown",
      "metadata": {
        "id": "5_xyaPc17CAD",
        "colab_type": "text"
      },
      "source": [
        "**Local directory**: In case you save the data in your local directory, you need to change \"input_path\" to the local directory you saved the file (or files) in.\n",
        "\n",
        "**GitHub**: If you use my GitHub (or your own GitHub) repo, you need to change the \"input_path\" to where the file (or files) exist in the repo. For example, when I clone ***ml_in_practice*** from my GitHub, I need to change \"input_path\" to 'data/' as the file (or files) is saved in the data dicretory in this repository. \n",
        "\n",
        "**Note.**: You can also clone my ***ml_in_practice*** repository (https://github.com/alimadani/ml_in_practice) and follow the same process."
      ]
    },
    {
      "cell_type": "markdown",
      "metadata": {
        "id": "TgJ6VcY-998e",
        "colab_type": "text"
      },
      "source": [
        "## Making sure about the dataset characteristics (number of data points and features)"
      ]
    },
    {
      "cell_type": "code",
      "metadata": {
        "id": "k4Twci0U9-3S",
        "colab_type": "code",
        "outputId": "e44bd441-7ae5-4c75-e04f-6cb1b5c577c7",
        "colab": {
          "base_uri": "https://localhost:8080/",
          "height": 52
        }
      },
      "source": [
        "print('number of data points: {}'.format(target_dataset.shape[0]))\n",
        "print('number of features: {}'.format(target_dataset.shape[1]-1))\n",
        "# remember that 1 column is the output we want to predict and should not be considered as a feature"
      ],
      "execution_count": 41,
      "outputs": [
        {
          "output_type": "stream",
          "text": [
            "number of data points: 210\n",
            "number of features: 6\n"
          ],
          "name": "stdout"
        }
      ]
    },
    {
      "cell_type": "markdown",
      "metadata": {
        "id": "MzawoddQ-Qk0",
        "colab_type": "text"
      },
      "source": [
        "### Separating features from output variable\n",
        "The dataframe of the target dataset has a column we would like to predict its values (output variable). We need to separate this column from the rest of the dataframe which include the features we want to use to build the model."
      ]
    },
    {
      "cell_type": "code",
      "metadata": {
        "id": "wELryUEK-RbG",
        "colab_type": "code",
        "outputId": "0c5f11c3-74ce-4ec6-f12c-c607742b0f5c",
        "colab": {
          "base_uri": "https://localhost:8080/",
          "height": 34
        }
      },
      "source": [
        "output_var = target_dataset['target']\n",
        "input_features = target_dataset.drop(['target'], axis=1)\n",
        "print('number of features: {}'.format(input_features.shape[0]))"
      ],
      "execution_count": 42,
      "outputs": [
        {
          "output_type": "stream",
          "text": [
            "number of features: 210\n"
          ],
          "name": "stdout"
        }
      ]
    },
    {
      "cell_type": "markdown",
      "metadata": {
        "id": "d0Fi1jpVkbhC",
        "colab_type": "text"
      },
      "source": [
        "## Building the unsupervised learning (clustering) model\n",
        "We want to build a clustering model using k-means. As it is an unsupervise process, we do not need output values of datapoints for the modeling.\n",
        "\n",
        "### k-means\n",
        "Clustering using k-means can be summarized in 6 main steps:\n",
        "\n",
        "1) Choosing k as the hyperparameter of the model\n",
        "\n",
        "2) Randomly selecting k data points (as initial centers)\n",
        "\n",
        "3) Calculating distance of every data point to the chosen centers in step (2)\n",
        "\n",
        "4) Assign each data point to the nearest center\n",
        "\n",
        "5) Calculate new center of each cluster \n",
        "\n",
        "6) Repeat steps (3) to (5) until convergence (no point change cluster membership)\n"
      ]
    },
    {
      "cell_type": "code",
      "metadata": {
        "id": "fj3SSteMkxb2",
        "colab_type": "code",
        "outputId": "75c3f6f6-d4f9-43c2-cee2-f2f21a6858af",
        "colab": {
          "base_uri": "https://localhost:8080/",
          "height": 70
        }
      },
      "source": [
        "from sklearn import cluster\n",
        "\n",
        "# Create logistic regression object\n",
        "clustmodel = cluster.KMeans(n_clusters=3,max_iter=300)\n",
        "\n",
        "# Train the model using the training sets\n",
        "clustmodel.fit(input_features)"
      ],
      "execution_count": 43,
      "outputs": [
        {
          "output_type": "execute_result",
          "data": {
            "text/plain": [
              "KMeans(algorithm='auto', copy_x=True, init='k-means++', max_iter=300,\n",
              "       n_clusters=3, n_init=10, n_jobs=None, precompute_distances='auto',\n",
              "       random_state=None, tol=0.0001, verbose=0)"
            ]
          },
          "metadata": {
            "tags": []
          },
          "execution_count": 43
        }
      ]
    },
    {
      "cell_type": "markdown",
      "metadata": {
        "id": "xUHXoiaemXai",
        "colab_type": "text"
      },
      "source": [
        "## Evaluating performance of the model\n",
        "We can first use confusion matrix to evaluate the clustering. \n",
        "\n"
      ]
    },
    {
      "cell_type": "code",
      "metadata": {
        "id": "u6zmcFW1Bbra",
        "colab_type": "code",
        "outputId": "07e52b38-8b46-446a-fdbf-1af576fefa41",
        "colab": {
          "base_uri": "https://localhost:8080/",
          "height": 296
        }
      },
      "source": [
        "from sklearn import metrics\n",
        "\n",
        "# visualizing confusion matrix as a heatmap\n",
        "heatmap = sns.heatmap(metrics.confusion_matrix(output_var,clustmodel.labels_), \n",
        "                      annot=True, cmap = sns.light_palette(\"green\"))\n",
        "plt.ylabel('True label', fontsize=20)\n",
        "plt.xlabel('Predicted label', fontsize=20)\n",
        "plt.xticks(fontsize=20)\n",
        "plt.yticks(fontsize=20)\n",
        "plt.show()"
      ],
      "execution_count": 44,
      "outputs": [
        {
          "output_type": "display_data",
          "data": {
            "image/png": "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\n",
            "text/plain": [
              "<Figure size 432x288 with 2 Axes>"
            ]
          },
          "metadata": {
            "tags": [],
            "needs_background": "light"
          }
        }
      ]
    },
    {
      "cell_type": "markdown",
      "metadata": {
        "id": "uh6tW5m0DJDq",
        "colab_type": "text"
      },
      "source": [
        "We can also have a summary measure like V-measure that tells us about the performance of the clustering. The V-measure is the harmonic mean (reciprocal of the arithmetic mean of the reciprocals) between homogeneity and completeness:\n",
        "\n",
        "\n",
        "* **V-measure (ranges between 0 and 1)**\n",
        "\n",
        "\n",
        "\\begin{equation*} V = \\frac{(1+\\beta)*homogeneity*completeness}{\\beta*homogeneity +completeness}\\end{equation*}\n",
        "\n",
        "* **Homogeneity (ranges between 0 and 1)**: If homogeneity is 1, it means that every cluster contains only elements that are members of the same class while 0 homogeneity means having 1 cluster of all data points. \n",
        "\n",
        "* **Completeness (ranges between 0 and 1)**: If completeness is 1, it means that all elements of any given class are in the same cluster and 0 means that there is only one class and every element in it is assigned to a different cluster.\n",
        "\n",
        "Learn more about **Homogeneity** and **Completeness** here: https://www.aclweb.org/anthology/D07-1043.pdf\n",
        "\n",
        "\n",
        "\n"
      ]
    },
    {
      "cell_type": "code",
      "metadata": {
        "id": "cAqcUM5Bmb2d",
        "colab_type": "code",
        "outputId": "856823a6-4766-450b-833f-f33f231fca93",
        "colab": {
          "base_uri": "https://localhost:8080/",
          "height": 70
        }
      },
      "source": [
        "print(\"Homogeneity of the identified clusters:\", metrics.homogeneity_score(output_var,clustmodel.labels_))\n",
        "print(\"Completeness of the identified clusters:\", metrics.completeness_score(output_var,clustmodel.labels_))\n",
        "print(\"V-measure of the identified clusters:\", metrics.v_measure_score(output_var,clustmodel.labels_))"
      ],
      "execution_count": 45,
      "outputs": [
        {
          "output_type": "stream",
          "text": [
            "Homogeneity of the identified clusters: 0.6249322565295733\n",
            "Completeness of the identified clusters: 0.6254392653627887\n",
            "V-measure of the identified clusters: 0.6251856581535499\n"
          ],
          "name": "stdout"
        }
      ]
    },
    {
      "cell_type": "markdown",
      "metadata": {
        "id": "-R59A05BFzOC",
        "colab_type": "text"
      },
      "source": [
        "**Note.** Although homogeneity, completenss and V-measure are very close for this clustering model, they are not necessarily close for all clustering tasks.\n",
        "\n"
      ]
    }
  ]
}
