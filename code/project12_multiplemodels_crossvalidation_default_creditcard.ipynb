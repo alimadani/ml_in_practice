{
  "nbformat": 4,
  "nbformat_minor": 0,
  "metadata": {
    "colab": {
      "name": "project12_multiplemodels_crossvalidation_default_creditcard.ipynb",
      "provenance": [],
      "collapsed_sections": []
    },
    "kernelspec": {
      "name": "python3",
      "display_name": "Python 3"
    }
  },
  "cells": [
    {
      "cell_type": "markdown",
      "metadata": {
        "id": "0539Pwt1Ygwz",
        "colab_type": "text"
      },
      "source": [
        "# Project objective\n",
        "This project is designed to review random forest, logistic regression and naive Bayes machine learning methods and their python implementation for predicting probability of default of credit card clients. Performance of the models are compared using k-fold cross validation for different k values to choose the best model. Then the best model is used to predict the labels of the test set. \n",
        "\n",
        "**Probability of Default (PD)**: likelihood that a borrower will be unable to meet its debt obligations.\n",
        "\n",
        "\n",
        "Information about the dataset, some technical details about the used machine learning method(s) and mathematical details of the quantifications approaches are provided in the code. "
      ]
    },
    {
      "cell_type": "markdown",
      "metadata": {
        "id": "VjtJFxdsNh05",
        "colab_type": "text"
      },
      "source": [
        "# Packages we work with in this notebook\n",
        "We are going to use the following libraries and packages:\n",
        "\n",
        "* **numpy**: NumPy is the fundamental package for scientific computing with Python. (http://www.numpy.org/)\n",
        "* **sklearn**: Scikit-learn is a machine learning library for Python programming language. (https://scikit-learn.org/stable/)\n",
        "* **pandas**: Pandas provides easy-to-use data structures and data analysis tools for Python. (https://pandas.pydata.org/)\n",
        "\n",
        "We also use **warnings** to stop the notebook from returning warning messages.\n"
      ]
    },
    {
      "cell_type": "code",
      "metadata": {
        "id": "57oB2idEgr-g",
        "colab_type": "code",
        "colab": {}
      },
      "source": [
        "import numpy as np\n",
        "import pandas as pd\n",
        "import sklearn as sk\n",
        "\n",
        "import warnings\n",
        "warnings.filterwarnings('ignore')"
      ],
      "execution_count": 0,
      "outputs": []
    },
    {
      "cell_type": "markdown",
      "metadata": {
        "id": "Bb1Zm7ARN5D5",
        "colab_type": "text"
      },
      "source": [
        "# Introduction to the dataset\n",
        "\n",
        "**Name**: Default of credit card clients dataset\n",
        "\n",
        "**Summary**: Description of dataset and features (attributes) are provided in the dataset link.\n",
        "\n",
        "**number of features**: 24 (real, integer) \n",
        "\n",
        "**Number of data points (instances)**: 30,000\n",
        "\n",
        "**Link to the dataset**: http://archive.ics.uci.edu/ml/datasets/default+of+credit+card+clients\n",
        "\n",
        "\n"
      ]
    },
    {
      "cell_type": "markdown",
      "metadata": {
        "id": "QjBnejgpP0Gr",
        "colab_type": "text"
      },
      "source": [
        "## Importing the dataset\n",
        "We can import the dataset in multiple ways\n",
        "\n",
        "**Colab Notebook**: You can download the dataset file (or files) from the link (if provided) and uploading it to your google drive and then you can import the file (or files) as follows:\n",
        "\n",
        "**Note.** When you run the following cell, it tries to connect the colab with google derive. Follow steps 1 to 5 in this link (https://www.marktechpost.com/2019/06/07/how-to-connect-google-colab-with-google-drive/) to complete the "
      ]
    },
    {
      "cell_type": "code",
      "metadata": {
        "id": "RILQWrhjQUtF",
        "colab_type": "code",
        "outputId": "2fb1cb71-4d8d-43c7-8a8d-f56dd72120c2",
        "colab": {
          "base_uri": "https://localhost:8080/",
          "height": 374
        }
      },
      "source": [
        "from google.colab import drive\n",
        "drive.mount('/content/gdrive')\n",
        "\n",
        "# This path is common for everybody\n",
        "# This is the path to your google drive\n",
        "input_path = '/content/gdrive/My Drive/'\n",
        "# reading the data (target)\n",
        "target_dataset = pd.read_csv(input_path + 'default of credit card clients.csv')\n",
        "\n",
        "target_dataset = target_dataset.drop([0], axis=0)\n",
        "target_dataset.head"
      ],
      "execution_count": 2,
      "outputs": [
        {
          "output_type": "stream",
          "text": [
            "Go to this URL in a browser: https://accounts.google.com/o/oauth2/auth?client_id=947318989803-6bn6qk8qdgf4n4g3pfee6491hc0brc4i.apps.googleusercontent.com&redirect_uri=urn%3aietf%3awg%3aoauth%3a2.0%3aoob&response_type=code&scope=email%20https%3a%2f%2fwww.googleapis.com%2fauth%2fdocs.test%20https%3a%2f%2fwww.googleapis.com%2fauth%2fdrive%20https%3a%2f%2fwww.googleapis.com%2fauth%2fdrive.photos.readonly%20https%3a%2f%2fwww.googleapis.com%2fauth%2fpeopleapi.readonly\n",
            "\n",
            "Enter your authorization code:\n",
            "··········\n",
            "Mounted at /content/gdrive\n"
          ],
          "name": "stdout"
        },
        {
          "output_type": "execute_result",
          "data": {
            "text/plain": [
              "<bound method NDFrame.head of           ID      X1 X2 X3 X4  X5  ...    X19    X20   X21    X22   X23  Y\n",
              "1          1   20000  2  2  1  24  ...    689      0     0      0     0  1\n",
              "2          2  120000  2  2  2  26  ...   1000   1000  1000      0  2000  1\n",
              "3          3   90000  2  2  2  34  ...   1500   1000  1000   1000  5000  0\n",
              "4          4   50000  2  2  1  37  ...   2019   1200  1100   1069  1000  0\n",
              "5          5   50000  1  2  1  57  ...  36681  10000  9000    689   679  0\n",
              "...      ...     ... .. .. ..  ..  ...    ...    ...   ...    ...   ... ..\n",
              "29996  29996  220000  1  3  1  39  ...  20000   5003  3047   5000  1000  0\n",
              "29997  29997  150000  1  3  2  43  ...   3526   8998   129      0     0  0\n",
              "29998  29998   30000  1  2  2  37  ...      0  22000  4200   2000  3100  1\n",
              "29999  29999   80000  1  3  1  41  ...   3409   1178  1926  52964  1804  1\n",
              "30000  30000   50000  1  2  1  46  ...   1800   1430  1000   1000  1000  1\n",
              "\n",
              "[30000 rows x 25 columns]>"
            ]
          },
          "metadata": {
            "tags": []
          },
          "execution_count": 2
        }
      ]
    },
    {
      "cell_type": "markdown",
      "metadata": {
        "id": "MJgoRANkcTHs",
        "colab_type": "text"
      },
      "source": [
        "**Local directory**: In case you save the data in your local directory, you need to change \"input_path\" to the local directory you saved the file (or files) in.\n",
        "\n",
        "**GitHub**: If you use my GitHub (or your own GitHub) repo, you need to change the \"input_path\" to where the file (or files) exist in the repo. For example, when I clone ***ml_in_practice*** from my GitHub, I need to change \"input_path\" to 'data/' as the file (or files) is saved in the data dicretory in this repository. \n",
        "\n",
        "**Note.**: You can also clone my ***ml_in_practice*** repository (here: https://github.com/alimadani/ml_in_practice) and follow the same process."
      ]
    },
    {
      "cell_type": "markdown",
      "metadata": {
        "id": "zOZkorrg54KK",
        "colab_type": "text"
      },
      "source": [
        "### Separating features from output variable\n",
        "The dataframe of the target dataset has a column we would like to predict its values (output variable). We need to separate this column from the rest of the dataframe which include the features we want to use to build the model."
      ]
    },
    {
      "cell_type": "code",
      "metadata": {
        "id": "tIsCCKZN542x",
        "colab_type": "code",
        "outputId": "d3b4b9e1-0d89-4b7c-b4a5-c380c350c60d",
        "colab": {
          "base_uri": "https://localhost:8080/",
          "height": 34
        }
      },
      "source": [
        "output_var = target_dataset['Y']\n",
        "input_features = target_dataset[[col for col in target_dataset.columns if 'X' in col]]\n",
        "print('number of features: {}'.format(input_features.shape[0]))"
      ],
      "execution_count": 3,
      "outputs": [
        {
          "output_type": "stream",
          "text": [
            "number of features: 30000\n"
          ],
          "name": "stdout"
        }
      ]
    },
    {
      "cell_type": "markdown",
      "metadata": {
        "id": "5Q_FzHDPmy_x",
        "colab_type": "text"
      },
      "source": [
        "### Checking balance of classes\n",
        "We need to determine if there is a class imbalance in the dataset as it will be important for choosing the metric for the performance assessment."
      ]
    },
    {
      "cell_type": "code",
      "metadata": {
        "id": "TaOfibUQmX2E",
        "colab_type": "code",
        "outputId": "bceea1f7-6f48-452f-c99c-5250adb8528e",
        "colab": {
          "base_uri": "https://localhost:8080/",
          "height": 34
        }
      },
      "source": [
        "from collections import Counter\n",
        "\n",
        "Counter(output_var)"
      ],
      "execution_count": 4,
      "outputs": [
        {
          "output_type": "execute_result",
          "data": {
            "text/plain": [
              "Counter({'0': 23364, '1': 6636})"
            ]
          },
          "metadata": {
            "tags": []
          },
          "execution_count": 4
        }
      ]
    },
    {
      "cell_type": "markdown",
      "metadata": {
        "id": "qgejl_XWhWqN",
        "colab_type": "text"
      },
      "source": [
        "## Splitting data to training and testing sets\n",
        "\n",
        "We need to check generalizability of the model. To accomplish this task in this project, we implement the following process:\n",
        "1) splitting data to training set (70%) and test set (30%)\n",
        "2) train and validate the models built based on different algorithms using 10-fold cross validation\n",
        "3) testing the best model in the test set\n",
        "split the data to train and test, if we do not have a separate dataset for validation and/or testing, to make sure about generalizability of the model we train.\n",
        "\n",
        "**Note.**: We need the validation and test sets to be big enough for checking generalizability of our model. At the same time we would like to have as much data as possible in the training set to train a better model.\n",
        "\n",
        "**random_state** as the name suggests, is used for initializing the internal random number generator, which will decide the splitting of data into train and test indices in your case.\n"
      ]
    },
    {
      "cell_type": "code",
      "metadata": {
        "id": "V3L9BbkSg2vp",
        "colab_type": "code",
        "colab": {}
      },
      "source": [
        "from sklearn.model_selection import train_test_split\n",
        "\n",
        "X_train, X_test, y_train, y_test = train_test_split(input_features, output_var, test_size=0.30, random_state=5)"
      ],
      "execution_count": 0,
      "outputs": []
    },
    {
      "cell_type": "markdown",
      "metadata": {
        "id": "d0Fi1jpVkbhC",
        "colab_type": "text"
      },
      "source": [
        "## Building the supervised learning model\n",
        "We want to build classification models using three algorithms including naive Bayes, k nearest neighbour and random forest.\n",
        "\n",
        "### Decision tree\n",
        "A decision tree is built starting from the best feature splitting the data points to 2 purest possible groups. Then each group is splitted again by next best features for purification of groups. Although this process can be continued till getting to 100% purity (having only one class) in each group, it would probably lower than generalizability of the model. Hence, we usually cut the tree before getting to 100% purity.\n",
        "\n",
        "### Random forest\n",
        "Decision trees usually have high variance, meaning their prediction performance varies largely between datasets. To overcome this issue we can rely on concept of ensemble learning. In ensemble learning we want to use wisdom of crowd instead of single classifier. For example, random forest as an ensemble model uses multiple decision trees to predict class of each data point. Here is the process of bulding a random forest model:\n",
        "\n",
        "1) Randomly sampling data points with replacement (bootstrapping)\n",
        "\n",
        "2) Randomly selecting the features \n",
        "\n",
        "3) Build a decision tree using the randomly selected data points and features in steps 1 and 2.\n",
        "\n",
        "4) Building multiple decision trees as decsribed in steps 1 to 3\n",
        "\n",
        "5) Using majority vote of all the decision trees as the identified class for a given data point\n",
        "\n",
        "Note. We don't need to write code for these steps but they will be done automatically when using random forest in python. But we need to know how it works. \n",
        "\n",
        "### Logistic regression\n",
        "If we have set of features X1 to Xn, y can be obtained as:\n",
        "\\begin{equation*} y=b0+b1X1+b2X2+...+bnXn\\end{equation*}\n",
        "\n",
        "where y is the predicted value obtained by weighted sum of the feature values.\n",
        "\n",
        "Then probability of each class (for example if there is a malignant tumor) can be obtained using the logistic function \n",
        "\n",
        "\\begin{equation*} p(class=malignant)=\\frac{1}{(1+exp(-y))} \\end{equation*}\n",
        "\n",
        "Based on the given class labels and the features given in the trainign data, coefficients b0 to bn can be ontained during the optimization process.\n",
        "\n",
        "b0 to bn are fixed for all samples while X1 to Xn are feature values specific to each sample. Hence, the logistic function will give us probability of each class assigned to each sample. Finally, the model will choose the class with the highest probability for each sample.\n",
        "\n",
        "\n",
        "**Note.** The logistic regression model is parametric and the parameters are the regression coefficiets b0 to bn.\n",
        "\n",
        "### Naive Bayes\n",
        "To understand Naive Bayes algotirhm, we need to know what Bayes theorem. Bayes theorem related conditional rpobabilities as follows:\n",
        "\n",
        "\\begin{equation*} p(A|B)p(B)=p(B|A)p(A) \\end{equation*}\n",
        "that can be rewritten as\n",
        "\n",
        "\\begin{equation*} p(A|B)=\\frac{p(B|A)p(A)}{p(B)} \\end{equation*}\n",
        "\n",
        "where p(A) and p(B) are probabilities of events A and B, respectively. p(A|B) and p(B|A) are also conditional probabilities of A given B and B given A, respectively.\n",
        "\n",
        "**Example without numbers**\n",
        "\n",
        "Now let's assume we have 3 features X1, X2 and X3 and we want to identify the probability of class C for sample A with feature values *x1*, *x2* and *x3*:\n",
        "\n",
        "\\begin{equation*} p(class=C|X1=x1, X2=x2 , X3=x3)=\\frac{p(X1=x1|class=C)p(X2=x2|lass=C)p(X3=x3|class=C)p(class=C)}{p(X1=x1)p(X2=x2)p(X3=x3)} \\end{equation*}\n",
        "\n",
        "where \n",
        "\\begin{equation*} p(X1=x1, X2=x2 , X3=x3)=p(X1=x1)p(X2=x2)p(X3=x3) \\end{equation*}\n",
        "and\n",
        "\\begin{equation*} p(X1=x1, X2=x2 , X3=x3|class=C)=p(X1=x1|class=C)p(X2=x2|class=C)p(X3=x3|lass=C)p(class=C) \\end{equation*}\n",
        "\n",
        "as the features are independent variables. \n",
        "\n",
        "**Real life example with numbers**\n",
        "\n",
        "We want to know the chance of having breast cancer if the diagnosis test is positive for a woman with the age between 40 and 60. This example is mainly for understanding Bayes theorem not Naive Bayes classifier. In case of Naive Bayes algorithm, this process can be easily extended to multiple features as described in the above example.\n",
        "\n",
        "***Assumptions (not necessarily correct)***\n",
        "\n",
        "* 2% of women between 40 and 60 have breast cancer\n",
        "* True positive rate is 95% (if a woman has breast cancer, it will be diagnosed with 95% probability). Therefore, 5% of the time the women without breast cancer will be diagnosed positively by the test.\n",
        "\n",
        "Now the question is *What is the chance of havign breast cancer if a woman has positive result from a diagnosis test?*\n",
        "\n",
        "\\begin{equation*} p(having \\quad breast \\quad cancer|positive)=\\frac{p(positive|breast \\quad cancer)p(breast cancer)}{p(positive)} \\end{equation*}\n",
        "\n",
        "where \n",
        "\n",
        "\n",
        "\\begin{equation*} p(positive) = p(positive|having \\quad breast \\quad cancer)p(having \\quad breast \\quad cancer) \\\\+ p(positive|not \\quad having \\quad breast \\quad cancer)p(not \\quad having \\quad breast \\quad cancer)\\\\=\n",
        "0.95*0.02+0.05*0.98\\\\=0.068\\end{equation*}\n",
        "\n",
        "Therefore,\n",
        "\n",
        "\\begin{equation*} p(having \\quad breast  \\quad cancer|positive)=\\frac{p(positive|breast \\quad cancer)p(having \\quad breast \\quad cancer)}{p(positive)}\\\\= \\frac{0.95*0.02}{0.068}\\\\=0.28\\end{equation*}\n",
        "\n",
        "\n",
        "As we can see, there is only 28% chance of having cancer upon positive test result. Although the numbers were not clinically valid numbers, we deal with similar results in disease diagnosis. This is one of the reasons that further checkups by phycisions are mandatory upon positive results. Do not panic when you have a positive result but follow up with your doctor immediately.\n",
        "\n",
        "**Note.** Naive Bayes classifier is called ***Naive*** as it assumes each feature will independently contribute in prediction of a class for each data point (sample)."
      ]
    },
    {
      "cell_type": "code",
      "metadata": {
        "id": "fj3SSteMkxb2",
        "colab_type": "code",
        "outputId": "e3ea34cb-7323-4556-aadd-dad9a6db54ae",
        "colab": {
          "base_uri": "https://localhost:8080/",
          "height": 70
        }
      },
      "source": [
        "from sklearn.model_selection import cross_val_score\n",
        "from sklearn.linear_model import LogisticRegression \n",
        "from sklearn.naive_bayes import GaussianNB\n",
        "from sklearn.ensemble import RandomForestClassifier \n",
        "\n",
        "# Create logistic regression object\n",
        "rf = RandomForestClassifier(random_state=10)\n",
        "\n",
        "# Create logistic regression object\n",
        "logreg = LogisticRegression(random_state=10)\n",
        "\n",
        "# Create naive Bayes object\n",
        "nb = GaussianNB()\n",
        "\n",
        "\n",
        "# assessing performance of the model using k-fold cross validation\n",
        "scores_rf = cross_val_score(rf, X_train, y_train, cv=10, scoring='f1_macro')\n",
        "\n",
        "scores_logreg = cross_val_score(logreg, X_train, y_train, cv=10, scoring='f1_macro')\n",
        "\n",
        "scores_nb = cross_val_score(nb, X_train, y_train, cv=10, scoring='f1_macro')\n",
        "\n",
        "# average performance across all folds\n",
        "print(\"Average Accuracy of random forest model across the folds: %0.2f\" % (scores_rf.mean()))\n",
        "print(\"Average Accuracy of logistic regression model across the folds: %0.2f\" % (scores_logreg.mean()))\n",
        "print(\"Average Accuracy of naive Bayes model across the folds: %0.2f\" % (scores_nb.mean()))"
      ],
      "execution_count": 6,
      "outputs": [
        {
          "output_type": "stream",
          "text": [
            "Average Accuracy of random forest model across the folds: 0.68\n",
            "Average Accuracy of logistic regression model across the folds: 0.44\n",
            "Average Accuracy of naive Bayes model across the folds: 0.38\n"
          ],
          "name": "stdout"
        }
      ]
    },
    {
      "cell_type": "markdown",
      "metadata": {
        "id": "W9PqGFnmlhm0",
        "colab_type": "text"
      },
      "source": [
        "As random forest has higher performance in the cross-validation setting, we use it in the test set to further assess its performance.  "
      ]
    },
    {
      "cell_type": "markdown",
      "metadata": {
        "id": "zUWtodtDmFAW",
        "colab_type": "text"
      },
      "source": [
        "## Prediction of test (or validation) set\n",
        "We now have to use the trained model to predict y_test."
      ]
    },
    {
      "cell_type": "code",
      "metadata": {
        "id": "KRQpG2vykzqX",
        "colab_type": "code",
        "colab": {}
      },
      "source": [
        "# Let's train the model using all the training set together\n",
        "rf.fit(X_train, y_train)\n",
        "\n",
        "# Make predictions using the testing set\n",
        "y_pred_test = rf.predict(X_test)"
      ],
      "execution_count": 0,
      "outputs": []
    },
    {
      "cell_type": "markdown",
      "metadata": {
        "id": "xUHXoiaemXai",
        "colab_type": "text"
      },
      "source": [
        "## Evaluating performance of the model\n",
        "We need to assess performance of the model using the predictions of the test set. We use accuracy and balanced accuracy. Here are their definitions:\n",
        "\n",
        "* **recall** in this context is also referred to as the true positive rate or sensitivity\n",
        "\n",
        "How many relevant item are selected\n",
        "\n",
        "\n",
        "\n",
        "\n",
        "$${\\displaystyle {\\text{recall}}={\\frac {tp}{tp+fn}}\\,} $$\n",
        "\n",
        " \n",
        "\n",
        "* **specificity** true negative rate\n",
        "\n",
        "\n",
        "\n",
        "$${\\displaystyle {\\text{true negative rate}}={\\frac {tn}{tn+fp}}\\,}$$\n",
        "\n",
        "\n",
        "* **precision** is the fraction of true positives out of all the positive predictions\n",
        "\n",
        "$${\\displaystyle {\\text{precision}}={\\frac {tp}{tp+fp}}\\,} $$\n",
        "\n",
        "\n",
        "* **balanced accuracy**: This measure gives you a sense of performance for all the classes together as follows:\n",
        "\n",
        "$${\\displaystyle {\\text{balanced accuracy}}={\\frac {recall+specificity\n",
        "}{2}}\\,}$$\n",
        "\n",
        "* **F1 score** is the harmonic mean of precision and recall as follows\n",
        "\n",
        "$${\\displaystyle {\\text{F1}}={\\frac {2}{\\frac {1}{precision}+ \\frac {1}{recall}}}\\,} $$\n"
      ]
    },
    {
      "cell_type": "code",
      "metadata": {
        "id": "cAqcUM5Bmb2d",
        "colab_type": "code",
        "outputId": "e77b5bd3-f30d-4b84-a7ee-f86445993ba3",
        "colab": {
          "base_uri": "https://localhost:8080/",
          "height": 105
        }
      },
      "source": [
        "from sklearn import metrics\n",
        "\n",
        "print(\"\\n\\ncomparing balanced accuracies of the models using the test set\")\n",
        "print(\"blanced accuracy of the predictions using random forest:\", metrics.balanced_accuracy_score(y_test, y_pred_test))\n",
        "print(\"recall of the predictions using random forest:\", metrics.f1_score(y_test, y_pred_test, average='macro'))"
      ],
      "execution_count": 8,
      "outputs": [
        {
          "output_type": "stream",
          "text": [
            "\n",
            "\n",
            "comparing balanced accuracies of the models using the test set\n",
            "blanced accuracy of the predictions using random forest: 0.6538865118529945\n",
            "recall of the predictions using random forest: 0.6765296683804681\n"
          ],
          "name": "stdout"
        }
      ]
    },
    {
      "cell_type": "markdown",
      "metadata": {
        "id": "SjKKk4DTt_CI",
        "colab_type": "text"
      },
      "source": [
        "The 'macro' is uquivalent to arithmatic mean of F1 per each class: (F1(class 0)+F1(class 1))/2"
      ]
    }
  ]
}