{
  "nbformat": 4,
  "nbformat_minor": 0,
  "metadata": {
    "colab": {
      "name": "project2_linearregression_facebookmetric.ipynb",
      "provenance": []
    },
    "kernelspec": {
      "name": "python3",
      "display_name": "Python 3"
    }
  },
  "cells": [
    {
      "cell_type": "markdown",
      "metadata": {
        "id": "fA-Xi-HljHnM",
        "colab_type": "text"
      },
      "source": [
        "# Project objective\n",
        "This project is designed to review linear regression method and its python implementation using facebook metric dataset.\n",
        "\n",
        "Information about the dataset, some technical details about the used machine learning method(s) and mathematical details of the quantifications approaches are provided in the code. "
      ]
    },
    {
      "cell_type": "markdown",
      "metadata": {
        "id": "VjtJFxdsNh05",
        "colab_type": "text"
      },
      "source": [
        "# Packages we work with in this notebook\n",
        "We are going to use the following libraries and packages:\n",
        "\n",
        "* **numpy**: NumPy is the fundamental package for scientific computing with Python. (http://www.numpy.org/)\n",
        "* **sklearn**: Scikit-learn is a machine learning library for Python programming language. (https://scikit-learn.org/stable/)\n",
        "* **pandas**: Pandas provides easy-to-use data structures and data analysis tools for Python. (https://pandas.pydata.org/)\n"
      ]
    },
    {
      "cell_type": "code",
      "metadata": {
        "id": "57oB2idEgr-g",
        "colab_type": "code",
        "colab": {}
      },
      "source": [
        "import numpy as np\n",
        "import pandas as pd\n",
        "import sklearn as sk"
      ],
      "execution_count": 0,
      "outputs": []
    },
    {
      "cell_type": "markdown",
      "metadata": {
        "id": "Bb1Zm7ARN5D5",
        "colab_type": "text"
      },
      "source": [
        "# Introduction to the dataset\n",
        "\n",
        "**Name**: Facebook metrics Data Set\n",
        "\n",
        "**Summary**: Facebook performance metrics of a renowned cosmetic's brand Facebook page.\n",
        "\n",
        "**number of features**: 18 \n",
        "\n",
        "**Note.**:  One of the columns in this structured dataset is for the outcome we would like to predict. \n",
        "\n",
        "**Number of data points (instances)**: 500\n",
        "\n",
        "**Link to the dataset**: http://archive.ics.uci.edu/ml/datasets/Facebook+metrics\n",
        "\n",
        "\n"
      ]
    },
    {
      "cell_type": "markdown",
      "metadata": {
        "id": "QjBnejgpP0Gr",
        "colab_type": "text"
      },
      "source": [
        "## Importing the dataset\n",
        "We can import the dataset in multiple ways\n",
        "\n",
        "**Colab Notebook**: You can download the dataset file (or files) from the link (if provided) and uploading it to your google drive and then you can import the file (or files) as follows:\n",
        "\n",
        "**Note.** When you run the following cell, it tries to connect the colab with google derive. Follow steps 1 to 5 in this link (https://www.marktechpost.com/2019/06/07/how-to-connect-google-colab-with-google-drive/) to complete the process. "
      ]
    },
    {
      "cell_type": "code",
      "metadata": {
        "id": "RILQWrhjQUtF",
        "colab_type": "code",
        "outputId": "97ab7d42-c841-4a00-a6e9-97b6b6c20974",
        "colab": {
          "base_uri": "https://localhost:8080/",
          "height": 34
        }
      },
      "source": [
        "from google.colab import drive\n",
        "drive.mount('/content/gdrive')\n",
        "\n",
        "# This path is common for everybody\n",
        "# This is the path to your google drive\n",
        "input_path = '/content/gdrive/My Drive/'\n",
        "file_name = 'dataset_Facebook.csv'\n",
        "# sometimes we need to specify \"sep\" based on column spacing in the original file\n",
        "target_dataset = pd.read_csv(input_path+file_name, sep=';')"
      ],
      "execution_count": 0,
      "outputs": [
        {
          "output_type": "stream",
          "text": [
            "Drive already mounted at /content/gdrive; to attempt to forcibly remount, call drive.mount(\"/content/gdrive\", force_remount=True).\n"
          ],
          "name": "stdout"
        }
      ]
    },
    {
      "cell_type": "markdown",
      "metadata": {
        "id": "fNFi_D-DR9Lw",
        "colab_type": "text"
      },
      "source": [
        "**Local directory**: In case you save the data in your local directory, you need to change \"input_path\" to the local directory you saved the file (or files) in.\n",
        "\n",
        "**GitHub**: If you use my GitHub (or your own GitHub) repo, you need to change the \"input_path\" to where the file (or files) exist in the repo. For example, when I clone ***ml_projects*** from my GitHub, I need to change \"input_path\" to 'data/' as the file (or files) is saved in the data dicretory in this repository. \n",
        "\n",
        "**Note.**: You can also clone my ***ml_projects*** repository (here: https://github.com/alimadani/ml_projects) and follow the same process."
      ]
    },
    {
      "cell_type": "markdown",
      "metadata": {
        "id": "gJISZoltgE3N",
        "colab_type": "text"
      },
      "source": [
        "## Making sure about the dataset characteristics (number of data points and features)"
      ]
    },
    {
      "cell_type": "code",
      "metadata": {
        "id": "x3FUC2GHgK1R",
        "colab_type": "code",
        "outputId": "e59e2b9d-e16f-4aa4-ec35-4dab82150fd7",
        "colab": {
          "base_uri": "https://localhost:8080/",
          "height": 52
        }
      },
      "source": [
        "print('number of data points: {}'.format(target_dataset.shape[0]))\n",
        "print('number of features: {}'.format(target_dataset.shape[1]-1))\n",
        "# remember that 1 column is the output we want to predict and should not be considered as a feature"
      ],
      "execution_count": 0,
      "outputs": [
        {
          "output_type": "stream",
          "text": [
            "number of data points: 500\n",
            "number of features: 18\n"
          ],
          "name": "stdout"
        }
      ]
    },
    {
      "cell_type": "markdown",
      "metadata": {
        "id": "0NKhu9iklBY2",
        "colab_type": "text"
      },
      "source": [
        "## Data preparation\n",
        "We need to prepare the dataset for machine learning modeling. Here we prepare the data in 2 steps:\n",
        "\n",
        "1) converting categorical variables to integers\n",
        "\n",
        "2) filling Nans with 0"
      ]
    },
    {
      "cell_type": "code",
      "metadata": {
        "id": "ChsyY564lTV8",
        "colab_type": "code",
        "colab": {}
      },
      "source": [
        "# converting strings in categorical features to integers\n",
        "cat_columns = target_dataset.select_dtypes(['object']).columns\n",
        "target_dataset[cat_columns] = target_dataset[cat_columns].apply(lambda x: pd.factorize(x)[0])\n",
        "\n",
        "# replace infinity values with Nans\n",
        "# Fill Nans with 0\n",
        "target_dataset = target_dataset.replace([np.inf, -np.inf], np.nan)\n",
        "target_dataset = target_dataset.fillna(0)"
      ],
      "execution_count": 0,
      "outputs": []
    },
    {
      "cell_type": "markdown",
      "metadata": {
        "id": "psGPUVMxjGqA",
        "colab_type": "text"
      },
      "source": [
        "### Separating features from output variable\n",
        "The dataframe of the target dataset has a column we would like to predict its values (output variable). We need to separate this column from the rest of the dataframe which include the features we want to use to build the model."
      ]
    },
    {
      "cell_type": "code",
      "metadata": {
        "id": "a2XpebGfit_u",
        "colab_type": "code",
        "outputId": "6fedceee-1f57-4e26-9bec-44312f8a6776",
        "colab": {
          "base_uri": "https://localhost:8080/",
          "height": 34
        }
      },
      "source": [
        "# output variable\n",
        "output_var = target_dataset['like']\n",
        "\n",
        "#input features\n",
        "input_features = target_dataset.drop(['like'], axis=1)\n",
        "print('number of features: {}'.format(input_features.shape[0]))\n"
      ],
      "execution_count": 0,
      "outputs": [
        {
          "output_type": "stream",
          "text": [
            "number of features: 500\n"
          ],
          "name": "stdout"
        }
      ]
    },
    {
      "cell_type": "markdown",
      "metadata": {
        "id": "qgejl_XWhWqN",
        "colab_type": "text"
      },
      "source": [
        "## Splitting data to training and testing sets\n",
        "\n",
        "We need to split the data to train and test, if we do not have a separate dataset for validation and/or testing, to make sure about gneralizability of the model we train.\n",
        "\n",
        "**test_size**: Traditionally, 30%-40% of the dataset cna be used for test set. If we split the data to train, validation and test, we can use 60%, 20% and 20% of teh dataset, respectively.\n",
        "\n",
        "**Note.**: We need the validation and test sets to be big enough for checking genralizability of our model. At the same time we would like to have as much data as possible in the training set to train a better model.\n",
        "\n",
        "**random_state** as the name suggests, is used for initializing the internal random number generator, which will decide the splitting of data into train and test indices.\n"
      ]
    },
    {
      "cell_type": "code",
      "metadata": {
        "id": "V3L9BbkSg2vp",
        "colab_type": "code",
        "colab": {}
      },
      "source": [
        "from sklearn.model_selection import train_test_split\n",
        "\n",
        "X_train, X_test, y_train, y_test = train_test_split(input_features, output_var, test_size=0.30, random_state=5)"
      ],
      "execution_count": 0,
      "outputs": []
    },
    {
      "cell_type": "markdown",
      "metadata": {
        "id": "d0Fi1jpVkbhC",
        "colab_type": "text"
      },
      "source": [
        "## Building the supervised learning model\n",
        "We want to build a regression model as the output variable is continuous. Here we build a simple linear regression model. In linear regression, if we have set of features X1 to Xn, y can be obtained as:\n",
        "\\begin{equation*} y=b0+b1X1+b2X2+...+bnXn\\end{equation*}\n",
        "\n",
        "where y is the predicted value obtained by weighted sum of the feature values."
      ]
    },
    {
      "cell_type": "code",
      "metadata": {
        "id": "fj3SSteMkxb2",
        "colab_type": "code",
        "outputId": "e89fd0ec-1010-465f-a245-9fd318fb7f70",
        "colab": {
          "base_uri": "https://localhost:8080/",
          "height": 34
        }
      },
      "source": [
        "from sklearn.linear_model import LinearRegression\n",
        "\n",
        "# Create linear regression object\n",
        "regr = LinearRegression()\n",
        "\n",
        "# Train the model using the training sets\n",
        "regr.fit(X_train, y_train)"
      ],
      "execution_count": 0,
      "outputs": [
        {
          "output_type": "execute_result",
          "data": {
            "text/plain": [
              "LinearRegression(copy_X=True, fit_intercept=True, n_jobs=None, normalize=False)"
            ]
          },
          "metadata": {
            "tags": []
          },
          "execution_count": 29
        }
      ]
    },
    {
      "cell_type": "markdown",
      "metadata": {
        "id": "zUWtodtDmFAW",
        "colab_type": "text"
      },
      "source": [
        "## Prediction of test (or validation) set\n",
        "We now have to use the trained model to predict output values of test set (y_test)."
      ]
    },
    {
      "cell_type": "code",
      "metadata": {
        "id": "KRQpG2vykzqX",
        "colab_type": "code",
        "colab": {}
      },
      "source": [
        "# Make predictions using the testing set\n",
        "y_pred = regr.predict(X_test)"
      ],
      "execution_count": 0,
      "outputs": []
    },
    {
      "cell_type": "markdown",
      "metadata": {
        "id": "xUHXoiaemXai",
        "colab_type": "text"
      },
      "source": [
        "## Evaluating performance of the model\n",
        "We need to assess performance of the model using the predictions of the test set. We use mean squared error and mean absolute error to assess the performance of our model. Here are their definitions:\n",
        "\n",
        "**Mean squared error (MSE)**: \n",
        "\n",
        "\\begin{equation*} MSE = \\frac{1}{n}\\Sigma_{i=1}^n (Y_i-\\hat{Y}_i)^2 \\end{equation*}\n",
        "\n",
        "**Mean absolute error (MAE)**: \n",
        "\n",
        "\\begin{equation*} MSE = \\frac{1}{n}\\Sigma_{i=1}^n |Y_i-\\hat{Y}_i| \\end{equation*}\n",
        "\n",
        "where n is the total number of data points that we predicted their output values, $ Y_i $ is the output value of the $i$th data point and $ \\hat{Y}_i $ is the predicted output value of the $i$th data point."
      ]
    },
    {
      "cell_type": "code",
      "metadata": {
        "id": "cAqcUM5Bmb2d",
        "colab_type": "code",
        "outputId": "dc518700-501c-4c05-968d-292f52d165c7",
        "colab": {
          "base_uri": "https://localhost:8080/",
          "height": 52
        }
      },
      "source": [
        "from sklearn import metrics\n",
        "\n",
        "print(\"Mean squared error: {}\".format(metrics.mean_squared_error(y_test, y_pred)))\n",
        "print(\"Mean absolute error: {}\".format(metrics.mean_absolute_error(y_test, y_pred)))"
      ],
      "execution_count": 0,
      "outputs": [
        {
          "output_type": "stream",
          "text": [
            "Mean squared error: 1.32242961644449e-24\n",
            "Mean absolute error: 6.490823380455474e-13\n"
          ],
          "name": "stdout"
        }
      ]
    },
    {
      "cell_type": "markdown",
      "metadata": {
        "id": "a8d5eJVRm2yO",
        "colab_type": "text"
      },
      "source": [
        "## Extracting the coefficient of the model\n",
        "The trained linear regresseion model is a linear combination of feature values. Hence, each feature has a coefficient in this linear combination for predicting the output variable."
      ]
    },
    {
      "cell_type": "code",
      "metadata": {
        "id": "9ELrsRLImqtM",
        "colab_type": "code",
        "outputId": "66884abf-14b8-419b-98dc-d6cec200be17",
        "colab": {
          "base_uri": "https://localhost:8080/",
          "height": 105
        }
      },
      "source": [
        "print('Coefficients: {}'.format(regr.coef_))"
      ],
      "execution_count": 0,
      "outputs": [
        {
          "output_type": "stream",
          "text": [
            "Coefficients: [ 8.06626380e-18  8.04427054e-14  2.49042960e-13 -7.25583941e-15\n",
            " -1.15422712e-14 -7.40617409e-15  1.58590907e-13  1.14828548e-16\n",
            " -7.14846660e-17 -1.05606852e-15  1.19494392e-15 -1.89649566e-16\n",
            "  6.38825188e-17  6.59320565e-17 -3.44487473e-16 -1.00000000e+00\n",
            " -1.00000000e+00  1.00000000e+00]\n"
          ],
          "name": "stdout"
        }
      ]
    }
  ]
}