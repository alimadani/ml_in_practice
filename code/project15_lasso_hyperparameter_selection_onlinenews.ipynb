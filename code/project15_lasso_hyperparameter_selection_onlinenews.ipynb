{
  "nbformat": 4,
  "nbformat_minor": 0,
  "metadata": {
    "colab": {
      "name": "project15_lasso_hyperparameter_selection_onlinenews.ipynb",
      "provenance": [],
      "collapsed_sections": []
    },
    "kernelspec": {
      "name": "python3",
      "display_name": "Python 3"
    }
  },
  "cells": [
    {
      "cell_type": "markdown",
      "metadata": {
        "id": "0539Pwt1Ygwz",
        "colab_type": "text"
      },
      "source": [
        "# Project objective\n",
        "In this project, we try to identify best alpha in lasso machine learning method for predicting shares in social network popularity of Mashable using information regarding the articles published in a period of two years.\n",
        "\n",
        "This is a simple case of hyperparameter optimization. The selection is done by identifying best alpha comparing performance of the models in cross-validation setting.\n",
        "\n",
        "Information about the dataset, some technical details about the used machine learning method(s) and mathematical details of the quantifications approaches are provided in the code. "
      ]
    },
    {
      "cell_type": "markdown",
      "metadata": {
        "id": "VjtJFxdsNh05",
        "colab_type": "text"
      },
      "source": [
        "# Packages we work with in this notebook\n",
        "We are going to use the following libraries and packages:\n",
        "\n",
        "* **numpy**: NumPy is the fundamental package for scientific computing with Python. (http://www.numpy.org/)\n",
        "* **sklearn**: Scikit-learn is a machine learning library for Python programming language. (https://scikit-learn.org/stable/)\n",
        "* **pandas**: Pandas provides easy-to-use data structures and data analysis tools for Python. (https://pandas.pydata.org/)\n",
        "\n",
        "We also use **warnings** to stop the notebook from returning warning messages.\n"
      ]
    },
    {
      "cell_type": "code",
      "metadata": {
        "id": "57oB2idEgr-g",
        "colab_type": "code",
        "colab": {}
      },
      "source": [
        "import numpy as np\n",
        "import pandas as pd\n",
        "import sklearn as sk\n",
        "\n",
        "import warnings\n",
        "warnings.filterwarnings('ignore')"
      ],
      "execution_count": null,
      "outputs": []
    },
    {
      "cell_type": "markdown",
      "metadata": {
        "id": "Bb1Zm7ARN5D5",
        "colab_type": "text"
      },
      "source": [
        "# Introduction to the dataset\n",
        "\n",
        "**Name**: Online News Popularity Data Set\n",
        "\n",
        "**Summary**: \"This dataset summarizes a heterogeneous set of features about articles published by Mashable in a period of two years. The goal is to predict the number of shares in social networks (popularity).\" (UCI ML)\n",
        "\n",
        "**number of features**: 58 predictive features \n",
        "\n",
        "**Number of data points (instances)**: 39797\n",
        "\n",
        "**Link to the dataset**: https://archive.ics.uci.edu/ml/datasets/Online+News+Popularity\n",
        "\n",
        "\n"
      ]
    },
    {
      "cell_type": "markdown",
      "metadata": {
        "id": "QjBnejgpP0Gr",
        "colab_type": "text"
      },
      "source": [
        "## Importing the dataset\n",
        "We can import the dataset in multiple ways\n",
        "\n",
        "**Colab Notebook**: You can download the dataset file (or files) from the link (if provided) and uploading it to your google drive and then you can import the file (or files) as follows:\n",
        "\n",
        "**Note.** When you run the following cell, it tries to connect the colab with google derive. Follow steps 1 to 5 in this link (https://www.marktechpost.com/2019/06/07/how-to-connect-google-colab-with-google-drive/) to complete the "
      ]
    },
    {
      "cell_type": "code",
      "metadata": {
        "id": "RILQWrhjQUtF",
        "colab_type": "code",
        "colab": {
          "base_uri": "https://localhost:8080/",
          "height": 34
        },
        "outputId": "69c44f24-5278-4268-bb91-eb1fe8b850a1"
      },
      "source": [
        "from google.colab import drive\n",
        "drive.mount('/content/gdrive')\n",
        "\n",
        "# This path is common for everybody\n",
        "# This is the path to your google drive\n",
        "input_path = '/content/gdrive/My Drive/'\n",
        "# reading the data (target)\n",
        "target_dataset = pd.read_csv(input_path + 'OnlineNewsPopularity.csv', index_col=0)"
      ],
      "execution_count": null,
      "outputs": [
        {
          "output_type": "stream",
          "text": [
            "Drive already mounted at /content/gdrive; to attempt to forcibly remount, call drive.mount(\"/content/gdrive\", force_remount=True).\n"
          ],
          "name": "stdout"
        }
      ]
    },
    {
      "cell_type": "markdown",
      "metadata": {
        "id": "MJgoRANkcTHs",
        "colab_type": "text"
      },
      "source": [
        "**Local directory**: In case you save the data in your local directory, you need to change \"input_path\" to the local directory you saved the file (or files) in.\n",
        "\n",
        "**GitHub**: If you use my GitHub (or your own GitHub) repo, you need to change the \"input_path\" to where the file (or files) exist in the repo. For example, when I clone ***ml_in_practice*** from my GitHub, I need to change \"input_path\" to 'data/' as the file (or files) is saved in the data dicretory in this repository. \n",
        "\n",
        "**Note.**: You can also clone my ***ml_in_practice*** repository (here: https://github.com/alimadani/ml_in_practice) and follow the same process."
      ]
    },
    {
      "cell_type": "markdown",
      "metadata": {
        "id": "UIX-LbyLeEc6",
        "colab_type": "text"
      },
      "source": [
        "## Data preparation\n",
        "We need to prepare the dataset for machine learnign modeling. Here we prepare the data in 2 steps:\n",
        "\n",
        "1) Selecting target columns from the output dataframe (target_dataset_output)\n",
        "2) Converting tissue names to integers (one for each tissue)"
      ]
    },
    {
      "cell_type": "code",
      "metadata": {
        "id": "8GI52MUkePCR",
        "colab_type": "code",
        "colab": {}
      },
      "source": [
        "# tissueid is the column that contains tissue type information\n",
        "output_var = target_dataset[' shares']\n",
        "\n",
        "# we would like to use all the features as input features of the model\n",
        "input_features = target_dataset.drop([' timedelta', ' shares'], axis=1)"
      ],
      "execution_count": null,
      "outputs": []
    },
    {
      "cell_type": "markdown",
      "metadata": {
        "id": "qW4bVMDCdPVW",
        "colab_type": "text"
      },
      "source": [
        "## Making sure about the dataset characteristics (number of data points and features)"
      ]
    },
    {
      "cell_type": "code",
      "metadata": {
        "id": "TpSupKvgdS3e",
        "colab_type": "code",
        "colab": {
          "base_uri": "https://localhost:8080/",
          "height": 52
        },
        "outputId": "50ba1d76-0b96-4231-d7d6-565a3e0774d3"
      },
      "source": [
        "print('number of features: {}'.format(input_features.shape[1]))\n",
        "print('number of data points: {}'.format(input_features.shape[0]))"
      ],
      "execution_count": null,
      "outputs": [
        {
          "output_type": "stream",
          "text": [
            "number of features: 58\n",
            "number of data points: 39644\n"
          ],
          "name": "stdout"
        }
      ]
    },
    {
      "cell_type": "markdown",
      "metadata": {
        "id": "qgejl_XWhWqN",
        "colab_type": "text"
      },
      "source": [
        "## Splitting data to training and testing sets\n",
        "\n",
        "We need to split the data to train and test, if we do not have a separate dataset for validation and/or testing, to make sure about generalizability of the model we train.\n",
        "\n",
        "**test_size**: Traditionally, 30%-40% of the dataset cna be used for test set. If you split the data to train, validation and test, you can use 60%, 20% and 20% of teh dataset, respectively.\n",
        "\n",
        "**Note.**: We need the validation and test sets to be big enough for checking generalizability of our model. At the same time we would like to have as much data as possible in the training set to train a better model.\n",
        "\n",
        "**random_state** as the name suggests, is used for initializing the internal random number generator, which will decide the splitting of data into train and test indices in your case.\n"
      ]
    },
    {
      "cell_type": "code",
      "metadata": {
        "id": "V3L9BbkSg2vp",
        "colab_type": "code",
        "colab": {}
      },
      "source": [
        "from sklearn.model_selection import train_test_split\n",
        "\n",
        "X_train, X_test, y_train, y_test = train_test_split(input_features, output_var, test_size=0.30, random_state=5)"
      ],
      "execution_count": null,
      "outputs": []
    },
    {
      "cell_type": "markdown",
      "metadata": {
        "id": "d0Fi1jpVkbhC",
        "colab_type": "text"
      },
      "source": [
        "## Building the supervised learning model\n",
        "We want to build a regression model as the output variable is continuous. Here we build multiple models using Lasso using different hyperparameter values.\n",
        "\n",
        "\n",
        "### Lasso\n",
        "Lasso is a sparse learning algorithm to identify linear relationship between features an the output variable while trying to get rid of irrelevent(not a scientific term) features. The objective function of Lasso is to minimize:\n",
        "\n",
        "$$min_w {\\frac {1}{2n_{sample}}}||Xw-y||_2^2+\\alpha||w||_1$$\n",
        "\n",
        "where $\\alpha$ is the model hyperparameter determining the level of sparsification. Larger $\\alpha$ values results in fewer non-zero coefficients in the final model. $||w||_1$ is also the first norm ($l_1$) norm of the coefficient vector. The added term ($\\alpha ||w||_1$) is a penalty term trying to constrained the coefficient values of the features in the final model.\n",
        "\n"
      ]
    },
    {
      "cell_type": "markdown",
      "metadata": {
        "id": "7a8ygNgNwCFB",
        "colab_type": "text"
      },
      "source": [
        "## Cross-validation and checking generalizability of the model\n",
        "After training a machine learning model, we need to check its generalizability and making sure it is not only good in predicting the training set but is capable of predicting new data points. We splitted the data to 2 parts, training and test set. We can go one step further and repeat this splitting across the dataset so that every single data point is considered in one of the test (better to be said validation) sets. This process is called k-fold cross-validation. For example in case of 5-fold cross-validation, the dataset is splitted to 5 chunks and the model is trained in 4 out of 5 chunk and tested on the remianing chunk. The test chunk is then rotated so that every chunk is conisidered once for testing the model. Then we can get average performance of the model in the tested chunks.\n",
        "\n",
        "Here we use 5-fold cross-validation.\n",
        "\n",
        "Note. Lack (or low level) of generalizability of a trained model to new data points is called overfitting."
      ]
    },
    {
      "cell_type": "markdown",
      "metadata": {
        "id": "PMM6m-IswFqS",
        "colab_type": "text"
      },
      "source": [
        "## Hyperparameter selection\n",
        "We have parameters and hyperparameters that need to be determined to build a machine learning model. The parameters are determined in the optimization process in training set (this is hat happens when we train a model). The hyperparameters are those exist for the method (like $\\alpha$ in lasso) irrespect of the data. But these hyperparameters can be optimized for the dataset at hand. The hyperparameter optimization is usually done in validation (or development) set. In cross-validation, we are technically assesing performanc of a model at hand on different validation sets we have in cross-validation setting. Hence, the performance in cross-validation setting can be compared to select the best hypeparameters.\n"
      ]
    },
    {
      "cell_type": "code",
      "metadata": {
        "id": "fj3SSteMkxb2",
        "colab_type": "code",
        "colab": {
          "base_uri": "https://localhost:8080/",
          "height": 232
        },
        "outputId": "7c1aced4-8fad-4288-c9ee-75a9a2ee10b6"
      },
      "source": [
        "from sklearn.model_selection import cross_val_score\n",
        "from sklearn import linear_model\n",
        "\n",
        "alpha_hyperparam = np.arange(0.1,1.1,0.1)\n",
        "scores = []\n",
        "for alpha_iter in alpha_hyperparam:\n",
        "  print('alpha: {}'.format(alpha_iter))\n",
        "  lasso = linear_model.Lasso(alpha=alpha_iter)\n",
        "  scores.append(-round(cross_val_score(lasso, X_train, y_train, cv=5, scoring='neg_mean_squared_error').mean()/(len(y_train)/5), 3))\n",
        "# Create k nearest neighbour object\n",
        "\n",
        "# average performance across all folds\n",
        "print(\"Average cross-validation performance (mean squared error) in 5-fold cross validation for alpha values of 0.1 to 1 are {}, respectively.\".format(scores))"
      ],
      "execution_count": null,
      "outputs": [
        {
          "output_type": "stream",
          "text": [
            "alpha: 0.1\n",
            "alpha: 0.2\n",
            "alpha: 0.30000000000000004\n",
            "alpha: 0.4\n",
            "alpha: 0.5\n",
            "alpha: 0.6\n",
            "alpha: 0.7000000000000001\n",
            "alpha: 0.8\n",
            "alpha: 0.9\n",
            "alpha: 1.0\n",
            "Average cross-validation performance (mean squared error) in 5-fold cross validation for alpha values of 0.1 to 1 are [42248.563, 52116.924, 50441.597, 48810.133, 47004.382, 45440.819, 43984.336, 42591.135, 41261.189, 39994.479], respectively.\n"
          ],
          "name": "stdout"
        }
      ]
    },
    {
      "cell_type": "code",
      "metadata": {
        "id": "12wuuVNKAzxH",
        "colab_type": "code",
        "colab": {
          "base_uri": "https://localhost:8080/",
          "height": 34
        },
        "outputId": "d067d121-f8e6-429d-d317-f18a32dfe0e0"
      },
      "source": [
        "print('best alpha value corresponding to the lowest MSE: {}'.format(alpha_hyperparam[np.argmin(scores)]))"
      ],
      "execution_count": null,
      "outputs": [
        {
          "output_type": "stream",
          "text": [
            "best alpha value corresponding to the lowest MSE: 1.0\n"
          ],
          "name": "stdout"
        }
      ]
    },
    {
      "cell_type": "markdown",
      "metadata": {
        "id": "Xm8R0XRP8eo-",
        "colab_type": "text"
      },
      "source": [
        "We identified that $\\alpha=1$ results in the best performance in 5-fold cross-validation setting. Now we use all the training data to refit a lasso model with $\\alpha=1$ and then assess the performance of the model in the test set."
      ]
    },
    {
      "cell_type": "code",
      "metadata": {
        "id": "Od9xWVWhzp28",
        "colab_type": "code",
        "colab": {}
      },
      "source": [
        "# Create k nearest neighbour object\n",
        "lasso = linear_model.Lasso(alpha=1)\n",
        "# Train the models using the training sets\n",
        "lasso.fit(X_train, y_train)\n",
        "# Make predictions using the testing set\n",
        "y_pred_lass = lasso.predict(X_test)"
      ],
      "execution_count": null,
      "outputs": []
    },
    {
      "cell_type": "markdown",
      "metadata": {
        "id": "C-Uby3AV1OID",
        "colab_type": "text"
      },
      "source": [
        "## Evaluating performance of the model\n",
        "Finally, we need to assess performance of the model using the predictions of the test set. We use mean squared error to assess the performance of our model. Here are their definitions:\n",
        "\n",
        "**Mean squared error (MSE)**: \n",
        "\n",
        "\\begin{equation*} MSE = \\frac{1}{n}\\Sigma_{i=1}^n (Y_i-\\hat{Y}_i)^2 \\end{equation*}\n",
        "\n",
        "Note. By setting squared = False, we get the squared root of **MSE**.\n"
      ]
    },
    {
      "cell_type": "code",
      "metadata": {
        "id": "kdDOtXow1CKT",
        "colab_type": "code",
        "colab": {
          "base_uri": "https://localhost:8080/",
          "height": 34
        },
        "outputId": "5f481180-1306-408b-d445-e8358f5110ab"
      },
      "source": [
        "from sklearn import metrics\n",
        "\n",
        "print(\"normalized mean squared error of the predictions using lasso with alpha=1:\", metrics.mean_squared_error(y_test, y_pred_lasso, squared = False))"
      ],
      "execution_count": null,
      "outputs": [
        {
          "output_type": "stream",
          "text": [
            "normalized mean squared error of the predictions using lasso with alpha=1: 9042.2006051822\n"
          ],
          "name": "stdout"
        }
      ]
    }
  ]
}